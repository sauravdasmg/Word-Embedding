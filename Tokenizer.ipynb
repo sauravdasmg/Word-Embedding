{
  "nbformat": 4,
  "nbformat_minor": 0,
  "metadata": {
    "colab": {
      "provenance": [],
      "collapsed_sections": [
        "0B6RIXoUaDqC"
      ]
    },
    "kernelspec": {
      "name": "python3",
      "display_name": "Python 3"
    },
    "language_info": {
      "name": "python"
    }
  },
  "cells": [
    {
      "cell_type": "code",
      "source": [
        "from google.colab import drive\n",
        "drive.mount('/content/drive')"
      ],
      "metadata": {
        "colab": {
          "base_uri": "https://localhost:8080/"
        },
        "id": "V79938e511mN",
        "outputId": "f276e4d6-3bca-4c34-f38d-416fd7bfa6bd"
      },
      "execution_count": null,
      "outputs": [
        {
          "output_type": "stream",
          "name": "stdout",
          "text": [
            "Mounted at /content/drive\n"
          ]
        }
      ]
    },
    {
      "cell_type": "code",
      "execution_count": null,
      "metadata": {
        "id": "BiD0_LBHzR_c"
      },
      "outputs": [],
      "source": [
        "import pandas as pd\n",
        "# from pprint import pprint"
      ]
    },
    {
      "cell_type": "code",
      "source": [
        "test = pd.read_csv(\"/content/drive/MyDrive/Data_set/Bulbul/main_corpus.csv\")"
      ],
      "metadata": {
        "id": "mn4oP8_BXOZa"
      },
      "execution_count": null,
      "outputs": []
    },
    {
      "cell_type": "code",
      "source": [
        "test = test.iloc[:250000,:]"
      ],
      "metadata": {
        "id": "N1uk3zYvYMJD"
      },
      "execution_count": null,
      "outputs": []
    },
    {
      "cell_type": "code",
      "source": [
        "corpus = []\n",
        "for text in test['final_body']:\n",
        "  words = [word for word in text.split()]\n",
        "  corpus.append(words)"
      ],
      "metadata": {
        "id": "O80lNpiGUIis"
      },
      "execution_count": null,
      "outputs": []
    },
    {
      "cell_type": "code",
      "source": [
        "corpus = []\n",
        "for text in test['final_body']:\n",
        "  words = [word for word in text.split()]\n",
        "  corpus.append(words)"
      ],
      "metadata": {
        "id": "-OKxxPjYZ8jd"
      },
      "execution_count": null,
      "outputs": []
    },
    {
      "cell_type": "code",
      "source": [
        "corpus"
      ],
      "metadata": {
        "id": "spwVXsL5WSez"
      },
      "execution_count": null,
      "outputs": []
    },
    {
      "cell_type": "code",
      "source": [
        "def read_file_in_batches(file_path, batch_size):\n",
        "    with open(file_path, \"r\") as file:\n",
        "        while True:\n",
        "            batch = file.readlines(batch_size)\n",
        "            if not batch:\n",
        "                break\n",
        "            yield batch"
      ],
      "metadata": {
        "id": "f2INtYEDzKhw"
      },
      "execution_count": null,
      "outputs": []
    },
    {
      "cell_type": "code",
      "source": [
        "for batch in read_file_in_batches(\"large_file.txt\", 1000):\n",
        "    # process the batch\n",
        "    print(batch)"
      ],
      "metadata": {
        "id": "3FN9qAfpzVp7"
      },
      "execution_count": null,
      "outputs": []
    },
    {
      "cell_type": "markdown",
      "source": [
        "# Tokenize Experiment"
      ],
      "metadata": {
        "id": "0B6RIXoUaDqC"
      }
    },
    {
      "cell_type": "code",
      "source": [
        "text = \"This is a sample sentence.\"\n",
        "words = text.split()\n",
        "corpus = []\n",
        "\n",
        "for word in words:\n",
        "    corpus.append(word)\n",
        "\n",
        "print(corpus)\n"
      ],
      "metadata": {
        "id": "arJORHrFcHH7"
      },
      "execution_count": null,
      "outputs": []
    },
    {
      "cell_type": "code",
      "source": [
        "corpus = []\n",
        "for text in test['final_body']:\n",
        "  words = [word for word in text.split()]\n",
        "  corpus.append(words)"
      ],
      "metadata": {
        "id": "iRX8eXEecG57"
      },
      "execution_count": null,
      "outputs": []
    },
    {
      "cell_type": "code",
      "source": [
        "import pandas as pd\n",
        "\n",
        "# create a sample DataFrame\n",
        "df = pd.DataFrame({'text': ['This is a sample sentence. Another sentence for demonstration? A third sentence for example.']})\n",
        "\n",
        "# split the text column into tokens\n",
        "df1 = pd.DataFrame()\n",
        "\n",
        "print(df1)\n"
      ],
      "metadata": {
        "colab": {
          "base_uri": "https://localhost:8080/"
        },
        "id": "DsyjuXMMN5mt",
        "outputId": "a604c799-c1fd-4d7f-af07-55d0ac7bdf9a"
      },
      "execution_count": null,
      "outputs": [
        {
          "output_type": "stream",
          "name": "stdout",
          "text": [
            "Empty DataFrame\n",
            "Columns: []\n",
            "Index: []\n"
          ]
        }
      ]
    },
    {
      "cell_type": "code",
      "source": [],
      "metadata": {
        "id": "YwJif5TIcD38"
      },
      "execution_count": null,
      "outputs": []
    },
    {
      "cell_type": "code",
      "source": [
        "for text in df['text']:\n",
        "  df1['tokens'] = df['text'].str.split()\n",
        "df1['tokens'] = df1['tokens'].apply(lambda x: ['\"{}\"'.format(token) for token in x])\n",
        "\n",
        "pprint(df1.iloc[0])\n",
        "df1.shape"
      ],
      "metadata": {
        "colab": {
          "base_uri": "https://localhost:8080/"
        },
        "id": "yVd7rKKw1ama",
        "outputId": "5673eea8-afc7-4721-b8b1-5d3cd721a87c"
      },
      "execution_count": null,
      "outputs": [
        {
          "output_type": "stream",
          "name": "stdout",
          "text": [
            "tokens    [\"This\", \"is\", \"a\", \"sample\", \"sentence.\"]\n",
            "Name: 0, dtype: object\n"
          ]
        },
        {
          "output_type": "execute_result",
          "data": {
            "text/plain": [
              "(3, 1)"
            ]
          },
          "metadata": {},
          "execution_count": 5
        }
      ]
    },
    {
      "cell_type": "code",
      "source": [
        "dflist = []\n",
        "outputlist = []\n",
        "for text in df['text']:\n",
        "  dflist.append(text.split('.?'))\n",
        "\n",
        "pprint(dflist)"
      ],
      "metadata": {
        "id": "moH3f7x04Zvp",
        "colab": {
          "base_uri": "https://localhost:8080/"
        },
        "outputId": "9bebb1e7-661d-4f91-e4d3-524008ccf646"
      },
      "execution_count": null,
      "outputs": [
        {
          "output_type": "stream",
          "name": "stdout",
          "text": [
            "[['This is a sample sentence. Another sentence for demonstration? A third '\n",
            "  'sentence for example.']]\n"
          ]
        }
      ]
    },
    {
      "cell_type": "code",
      "source": [
        "for sentence in dflist:\n",
        "  outputlist.append(sentence.split())\n",
        "\n",
        "# df1['tokens'] = df1['tokens'].apply(lambda x: ['\"{}\"'.format(token) for token in x])"
      ],
      "metadata": {
        "id": "Yb5hy8YATnc1"
      },
      "execution_count": null,
      "outputs": []
    },
    {
      "cell_type": "code",
      "source": [
        "given_list = ['what is', 'My name is Saurav']\n",
        "output_list = []\n",
        "\n",
        "for sentence in dflist:\n",
        "  for item in sentence:\n",
        "    output_list.append(sentence.split())\n",
        "\n",
        "\n",
        "print(output_list)\n"
      ],
      "metadata": {
        "id": "bRuTreaSThvX"
      },
      "execution_count": null,
      "outputs": []
    },
    {
      "cell_type": "markdown",
      "source": [
        "# Model training"
      ],
      "metadata": {
        "id": "Oo-H2FuTaPXK"
      }
    },
    {
      "cell_type": "code",
      "source": [
        "import gensim\n",
        "# import gensim.downloader as api\n",
        "from gensim.models import Word2Vec"
      ],
      "metadata": {
        "id": "d7ljqlJY2OTn"
      },
      "execution_count": null,
      "outputs": []
    },
    {
      "cell_type": "code",
      "source": [
        "cb_w2_model = gensim.models.Word2Vec(\n",
        "\n",
        "    size=300,\n",
        "    window=10,\n",
        "    min_count=5,\n",
        "    workers=4,\n",
        "    sg=1\n",
        ")\n",
        "  # when sg= 1 that time it will train it in skip gram\n",
        "  # do the same thing with different dimension 100,300"
      ],
      "metadata": {
        "id": "57ukEUmDT25T"
      },
      "execution_count": null,
      "outputs": []
    },
    {
      "cell_type": "code",
      "source": [
        "cb_w2_model.build_vocab(corpus, progress_per=1000)\n",
        "cb_w2_model.train(corpus, total_examples=cb_w2_model.corpus_count, epochs=cb_w2_model.epochs)"
      ],
      "metadata": {
        "colab": {
          "base_uri": "https://localhost:8080/"
        },
        "id": "jRSi_z-oaxjD",
        "outputId": "f0021e4b-aa32-4dfd-8500-84e9a36ccca6"
      },
      "execution_count": null,
      "outputs": [
        {
          "output_type": "execute_result",
          "data": {
            "text/plain": [
              "(355536758, 374817520)"
            ]
          },
          "metadata": {},
          "execution_count": 8
        }
      ]
    },
    {
      "cell_type": "code",
      "source": [
        "word2vec_gs_sg1_300.save(\"/content/drive/My Drive/Data_set/pre-trained model/Glove/Glove_python_100\")"
      ],
      "metadata": {
        "id": "tZGLJPt7ITPb"
      },
      "execution_count": null,
      "outputs": []
    },
    {
      "cell_type": "code",
      "source": [
        "word2vec_gs_sg1_300 = cb_w2_model\n",
        "# word2vec_gs_sg1_300 = gensim.models.Word2Vec(\n",
        "#     size=300,\n",
        "#     window=10,\n",
        "#     min_count=5,\n",
        "#     workers=4,\n",
        "#     sg=1\n",
        "# )\n",
        "# test = test.iloc[:250000,:]\n",
        "# 2h 38m 28s"
      ],
      "metadata": {
        "id": "ofQqhCZcjBsV"
      },
      "execution_count": null,
      "outputs": []
    },
    {
      "cell_type": "code",
      "source": [
        "word2vec_gs_sg1_300.save(\"/content/drive/MyDrive/Data_set/pre-trained model/word2vec 0.25M/word2vec_gs_sg1_300\")"
      ],
      "metadata": {
        "id": "EgoDfQBWJRTY"
      },
      "execution_count": null,
      "outputs": []
    },
    {
      "cell_type": "code",
      "source": [
        "word2vec_gs_sg1_300.wv.most_similar(positive=['বাংলাদেশ', 'ইসলামাবাদ'], negative=['ঢাকা'], topn=10)"
      ],
      "metadata": {
        "colab": {
          "base_uri": "https://localhost:8080/"
        },
        "id": "6huVtRCrJ145",
        "outputId": "57e2b426-6490-4012-b76a-76b5ecf5e36a"
      },
      "execution_count": null,
      "outputs": [
        {
          "output_type": "execute_result",
          "data": {
            "text/plain": [
              "[('পাকিস্তান', 0.5845909118652344),\n",
              " ('পাকিস্তানের', 0.5370507836341858),\n",
              " ('পাকিস্তানকে', 0.5087956190109253),\n",
              " ('ইসলামাবাদকে', 0.5030049085617065),\n",
              " ('ভারত', 0.49606284499168396),\n",
              " ('ইসলামাবাদের', 0.4779438078403473),\n",
              " ('ভারতকে', 0.4656069874763489),\n",
              " ('পাকিস্তানও', 0.45587220788002014),\n",
              " ('জেডসি', 0.4492354094982147),\n",
              " ('দেশটি', 0.4485556483268738)]"
            ]
          },
          "metadata": {},
          "execution_count": 11
        }
      ]
    },
    {
      "cell_type": "code",
      "source": [
        "word2vec_gs_sg1_300.wv.most_similar(positive=['রাজা', 'মেয়ে'], negative=['ছেলে'], topn=10)"
      ],
      "metadata": {
        "colab": {
          "base_uri": "https://localhost:8080/"
        },
        "id": "AIWm_U2WJ4f9",
        "outputId": "3b2dfad9-cd59-4693-97fc-74724109017d"
      },
      "execution_count": null,
      "outputs": [
        {
          "output_type": "execute_result",
          "data": {
            "text/plain": [
              "[('রাজার', 0.6231790781021118),\n",
              " ('ভূমিবলের', 0.5388094782829285),\n",
              " ('ভাজিরালংকর্ন', 0.5386178493499756),\n",
              " ('রাজাকে', 0.5340895056724548),\n",
              " ('কনসর্ট', 0.5111922025680542),\n",
              " ('রানি', 0.5085927844047546),\n",
              " ('ভূমিবল', 0.5081931948661804),\n",
              " ('রাজবংশের', 0.5062756538391113),\n",
              " ('ভাজিরালংকর্নের', 0.49746692180633545),\n",
              " ('আকিহিতোর', 0.48137420415878296)]"
            ]
          },
          "metadata": {},
          "execution_count": 12
        }
      ]
    },
    {
      "cell_type": "code",
      "source": [
        "cb_w2_model.wv.most_similar(positive=['বাংলাদেশ', 'ইসলামাবাদ'], negative=['ঢাকা'], topn=10)"
      ],
      "metadata": {
        "colab": {
          "base_uri": "https://localhost:8080/"
        },
        "id": "dCx2RTuLDzXu",
        "outputId": "c12661eb-13de-49e3-f3c0-54102f0f6010"
      },
      "execution_count": null,
      "outputs": [
        {
          "output_type": "execute_result",
          "data": {
            "text/plain": [
              "[('পাকিস্তান', 0.6976515054702759),\n",
              " ('ভারত', 0.6763831973075867),\n",
              " ('ব্রিটেন', 0.6417095065116882),\n",
              " ('অস্ট্রেলিয়া', 0.6413811445236206),\n",
              " ('ফিলিপাইন', 0.6368808746337891),\n",
              " ('যুক্তরাষ্ট্র', 0.6157585382461548),\n",
              " ('চীন', 0.6155452728271484),\n",
              " ('পাকিস্তানকে', 0.613100528717041),\n",
              " ('দেশটি', 0.6102765798568726),\n",
              " ('ভারতও', 0.6074037551879883)]"
            ]
          },
          "metadata": {},
          "execution_count": 17
        }
      ]
    },
    {
      "cell_type": "code",
      "source": [
        "cb_w2_model.wv.most_similar(positive=['রাজা', 'মেয়ে'], negative=['ছেলে'], topn=10)"
      ],
      "metadata": {
        "colab": {
          "base_uri": "https://localhost:8080/"
        },
        "id": "QD7Ei4Qc-kQA",
        "outputId": "816fe108-14c0-46ab-9421-130134f3b8a5"
      },
      "execution_count": null,
      "outputs": [
        {
          "output_type": "execute_result",
          "data": {
            "text/plain": [
              "[('রানি', 0.8039696216583252),\n",
              " ('রাজকন্যা', 0.7271395921707153),\n",
              " ('রানির', 0.7029072046279907),\n",
              " ('এলিজাবেথের', 0.6940058469772339),\n",
              " ('রাজার', 0.684807300567627),\n",
              " ('প্রিন্সেস', 0.6813533902168274),\n",
              " ('সিংহাসনে', 0.6483903527259827),\n",
              " ('এলভিস', 0.638285756111145),\n",
              " ('সিংহাসনের', 0.6381005048751831),\n",
              " ('ডায়ানা', 0.6380535364151001)]"
            ]
          },
          "metadata": {},
          "execution_count": 14
        }
      ]
    },
    {
      "cell_type": "code",
      "source": [
        "word2vec_gs_sg1_300.wv.similarity('প্রবর্তন', 'রাজা')"
      ],
      "metadata": {
        "colab": {
          "base_uri": "https://localhost:8080/"
        },
        "id": "jt5Ahh_hNBt_",
        "outputId": "c9db32b6-2b44-4eb3-8e1e-f37ef6d2ce97"
      },
      "execution_count": null,
      "outputs": [
        {
          "output_type": "execute_result",
          "data": {
            "text/plain": [
              "0.13480559"
            ]
          },
          "metadata": {},
          "execution_count": 14
        }
      ]
    },
    {
      "cell_type": "code",
      "source": [
        "cb_w2_model.wv.similarity('প্রবর্তন', 'রাজা')"
      ],
      "metadata": {
        "colab": {
          "base_uri": "https://localhost:8080/"
        },
        "id": "aJK59hd2DP04",
        "outputId": "5da56e2a-f81e-40dc-f89a-946c7669352b"
      },
      "execution_count": null,
      "outputs": [
        {
          "output_type": "execute_result",
          "data": {
            "text/plain": [
              "0.083554745"
            ]
          },
          "metadata": {},
          "execution_count": 16
        }
      ]
    },
    {
      "cell_type": "code",
      "source": [
        "word2vec_gs_sg1_300.wv.most_similar([\"কুয়াশা\"] , topn=10)"
      ],
      "metadata": {
        "colab": {
          "base_uri": "https://localhost:8080/"
        },
        "id": "2Pss9pSGM1wY",
        "outputId": "8736d6d6-8479-4b47-b930-7d79696f1238"
      },
      "execution_count": null,
      "outputs": [
        {
          "output_type": "execute_result",
          "data": {
            "text/plain": [
              "[('কুয়াশার', 0.7582768797874451),\n",
              " ('কুয়াশায়', 0.7242511510848999),\n",
              " ('ঘনকুয়াশা', 0.6978636980056763),\n",
              " ('কুশায়ার', 0.670792281627655),\n",
              " ('গুঁড়িগুঁড়ি', 0.669908881187439),\n",
              " ('ঘনকুয়াশার', 0.6571832895278931),\n",
              " ('ঘন', 0.6563246250152588),\n",
              " ('কুয়াশাও', 0.6350972652435303),\n",
              " ('কুয়াশা', 0.6254608035087585),\n",
              " ('কনকনে', 0.6243940591812134)]"
            ]
          },
          "metadata": {},
          "execution_count": 13
        }
      ]
    },
    {
      "cell_type": "code",
      "source": [
        "cb_w2_model.wv.most_similar([\"কুয়াশা\"] , topn=10)"
      ],
      "metadata": {
        "colab": {
          "base_uri": "https://localhost:8080/"
        },
        "id": "PBzeFdyza5zy",
        "outputId": "54bc344c-69ac-4b02-ac42-7f08397f8ada"
      },
      "execution_count": null,
      "outputs": [
        {
          "output_type": "execute_result",
          "data": {
            "text/plain": [
              "[('রোদ', 0.829767644405365),\n",
              " ('বাতাস', 0.7871706485748291),\n",
              " ('শীত', 0.7861037850379944),\n",
              " ('কুয়াশায়', 0.776739239692688),\n",
              " ('কনকনে', 0.7766075134277344),\n",
              " ('কুয়াশার', 0.7739852070808411),\n",
              " ('বৃষ্টিও', 0.7587803602218628),\n",
              " ('ঘন', 0.7462896704673767),\n",
              " ('বাতাসের', 0.72910475730896),\n",
              " ('বৃষ্টি', 0.7286632657051086)]"
            ]
          },
          "metadata": {},
          "execution_count": 18
        }
      ]
    }
  ]
}