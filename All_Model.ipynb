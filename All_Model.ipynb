{
  "cells": [
    {
      "cell_type": "code",
      "execution_count": null,
      "metadata": {
        "colab": {
          "base_uri": "https://localhost:8080/"
        },
        "id": "-9wD6rr5O6QH",
        "outputId": "7ea34fc9-3491-4505-e243-a7fb18aa7cca"
      },
      "outputs": [
        {
          "name": "stdout",
          "output_type": "stream",
          "text": [
            "Mounted at /content/drive\n"
          ]
        }
      ],
      "source": [
        "from google.colab import drive\n",
        "drive.mount('/content/drive')"
      ]
    },
    {
      "cell_type": "code",
      "execution_count": null,
      "metadata": {
        "colab": {
          "base_uri": "https://localhost:8080/"
        },
        "id": "3KsZCsyiO9Fj",
        "outputId": "5e7acb8b-3ace-49be-d6c0-f3d0416afd7f"
      },
      "outputs": [
        {
          "name": "stdout",
          "output_type": "stream",
          "text": [
            "Looking in indexes: https://pypi.org/simple, https://us-python.pkg.dev/colab-wheels/public/simple/\n",
            "Requirement already satisfied: ICU-Tokenizer in /usr/local/lib/python3.8/dist-packages (0.0.1)\n",
            "Requirement already satisfied: regex in /usr/local/lib/python3.8/dist-packages (from ICU-Tokenizer) (2022.6.2)\n",
            "Requirement already satisfied: tqdm in /usr/local/lib/python3.8/dist-packages (from ICU-Tokenizer) (4.64.1)\n",
            "Requirement already satisfied: PyICU in /usr/local/lib/python3.8/dist-packages (from ICU-Tokenizer) (2.10.2)\n"
          ]
        }
      ],
      "source": [
        "!pip install ICU-Tokenizer"
      ]
    },
    {
      "cell_type": "code",
      "execution_count": null,
      "metadata": {
        "id": "sUQQGPAA3mOT"
      },
      "outputs": [],
      "source": [
        "import pandas as pd\n",
        "import gensim\n",
        "import numpy as np\n"
      ]
    },
    {
      "cell_type": "code",
      "execution_count": null,
      "metadata": {
        "id": "6NPT78l1PJQF"
      },
      "outputs": [],
      "source": [
        "from icu_tokenizer import Tokenizer\n",
        "tokenizer = Tokenizer(lang='bengli')"
      ]
    },
    {
      "cell_type": "code",
      "execution_count": null,
      "metadata": {
        "id": "7AKlm-Ha6yIG"
      },
      "outputs": [],
      "source": [
        "#Load the CSV into a DataFrame:\n",
        "\n",
        "import pandas as pd\n",
        "df = pd.read_csv('/content/drive/MyDrive/Data_set/Bulbul/main_corpus.csv')"
      ]
    },
    {
      "cell_type": "code",
      "execution_count": null,
      "metadata": {
        "colab": {
          "base_uri": "https://localhost:8080/"
        },
        "id": "jzFxyO5aO0Ye",
        "outputId": "3f73fed9-8e3b-4ef5-850d-060a67f3fffb"
      },
      "outputs": [
        {
          "data": {
            "text/plain": [
              "(50000, 1)"
            ]
          },
          "execution_count": 4,
          "metadata": {},
          "output_type": "execute_result"
        }
      ],
      "source": [
        "# splitting dataframe by row index\n",
        "df_1 = df.iloc[:50000,:]\n",
        "df_1.shape"
      ]
    },
    {
      "cell_type": "code",
      "execution_count": null,
      "metadata": {
        "id": "7JYOFXvpynqv"
      },
      "outputs": [],
      "source": [
        "np.savetxt(\"corpus.txt\", df_1, delimiter=\", \", fmt=\"% s\")"
      ]
    },
    {
      "cell_type": "code",
      "execution_count": null,
      "metadata": {
        "id": "bQISuxhHO40A"
      },
      "outputs": [],
      "source": [
        "corpus = []\n",
        "for text in df_1['final_body']:\n",
        "  words = [word for word in tokenizer.tokenize(text)]\n",
        "  corpus.append(words)"
      ]
    },
    {
      "cell_type": "code",
      "execution_count": null,
      "metadata": {
        "id": "Io3u6huFcSql"
      },
      "outputs": [],
      "source": [
        "PAD_token = 0   # Used for padding short sentences\n",
        "SOS_token = 1   # Start-of-sentence token\n",
        "EOS_token = 2   # End-of-sentence token"
      ]
    },
    {
      "cell_type": "code",
      "execution_count": null,
      "metadata": {
        "id": "ZIcVkFXMcVxu"
      },
      "outputs": [],
      "source": [
        "class Vocabulary:\n",
        "    PAD_token = 0   # Used for padding short sentences\n",
        "    SOS_token = 1   # Start-of-sentence token\n",
        "    EOS_token = 2   # End-of-sentence token\n",
        "\n",
        "    def __init__(self, name):\n",
        "        self.name = name\n",
        "        self.unique = []\n",
        "        self.word2index = {}\n",
        "        self.word2count = {}\n",
        "        self.index2word = {PAD_token: \"PAD\", SOS_token: \"SOS\", EOS_token: \"EOS\"}\n",
        "        self.num_words = 3\n",
        "        self.num_sentences = 0\n",
        "        self.longest_sentence = 0\n",
        "        self.total_word = 0\n",
        "\n",
        "    def add_word(self, word):\n",
        "        if word not in self.word2index:\n",
        "            # First entry of word into vocabulary\n",
        "            self.word2index[word] = self.num_words\n",
        "            self.word2count[word] = 1\n",
        "            self.index2word[self.num_words] = word\n",
        "            self.num_words += 1\n",
        "            self.unique.append(word)\n",
        "            self.total_word += 1\n",
        "        else:\n",
        "            # Word exists; increase word count\n",
        "            self.word2count[word] += 1\n",
        "            self.total_word += 1\n",
        "            \n",
        "    def add_sentence(self, sentence):\n",
        "        sentence_len = 0\n",
        "        for word in sentence.split(' '):\n",
        "            sentence_len += 1\n",
        "            self.add_word(word)\n",
        "        if sentence_len > self.longest_sentence:\n",
        "            # This is the longest sentence\n",
        "            self.longest_sentence = sentence_len\n",
        "        # Count the number of sentences\n",
        "        self.num_sentences += 1\n",
        "\n",
        "    def to_word(self, index):\n",
        "        return self.index2word[index]\n",
        "\n",
        "    def to_index(self, word):\n",
        "        return self.word2index[word]"
      ]
    },
    {
      "cell_type": "code",
      "execution_count": null,
      "metadata": {
        "colab": {
          "base_uri": "https://localhost:8080/"
        },
        "id": "AbGUmMakcW6p",
        "outputId": "3e0800c9-ebfe-40c3-eb30-71ec28e3c808"
      },
      "outputs": [
        {
          "name": "stdout",
          "output_type": "stream",
          "text": [
            "<__main__.Vocabulary object at 0x7fe740027e50>\n"
          ]
        }
      ],
      "source": [
        "voc = Vocabulary('test')\n",
        "print(voc)"
      ]
    },
    {
      "cell_type": "code",
      "execution_count": null,
      "metadata": {
        "id": "y4rsBp5GcW-B"
      },
      "outputs": [],
      "source": [
        "test3 = df_1['final_body'].astype(str).values.tolist()"
      ]
    },
    {
      "cell_type": "code",
      "execution_count": null,
      "metadata": {
        "id": "eeE_TwgzcyDm"
      },
      "outputs": [],
      "source": [
        "listToStr = ' '.join([str(elem) for elem in test3])"
      ]
    },
    {
      "cell_type": "code",
      "execution_count": null,
      "metadata": {
        "colab": {
          "base_uri": "https://localhost:8080/"
        },
        "id": "FFTL2tT9cyG3",
        "outputId": "ff141bb8-0d02-49ca-ffbc-63f92b02a1d8"
      },
      "outputs": [
        {
          "name": "stderr",
          "output_type": "stream",
          "text": [
            "IOPub data rate exceeded.\n",
            "The notebook server will temporarily stop sending output\n",
            "to the client in order to avoid crashing it.\n",
            "To change this limit, set the config variable\n",
            "`--NotebookApp.iopub_data_rate_limit`.\n",
            "\n",
            "Current values:\n",
            "NotebookApp.iopub_data_rate_limit=1000000.0 (bytes/sec)\n",
            "NotebookApp.rate_limit_window=3.0 (secs)\n",
            "\n"
          ]
        }
      ],
      "source": [
        "import re\n",
        "corpus = re.split(r'[?|।]', listToStr)\n",
        "print(corpus)"
      ]
    },
    {
      "cell_type": "code",
      "execution_count": null,
      "metadata": {
        "id": "_HYxW4bccXNG"
      },
      "outputs": [],
      "source": [
        "for sent in corpus:\n",
        "  voc.add_sentence(sent)"
      ]
    },
    {
      "cell_type": "code",
      "execution_count": null,
      "metadata": {
        "colab": {
          "base_uri": "https://localhost:8080/"
        },
        "id": "zxyxqhb1c489",
        "outputId": "143d3a8a-a479-48b6-c612-7e9cc2f68a4d"
      },
      "outputs": [
        {
          "name": "stdout",
          "output_type": "stream",
          "text": [
            "27825539\n"
          ]
        }
      ],
      "source": [
        "print(voc.total_word)"
      ]
    },
    {
      "cell_type": "code",
      "execution_count": null,
      "metadata": {
        "colab": {
          "base_uri": "https://localhost:8080/"
        },
        "id": "rKva5ZVde_gA",
        "outputId": "cb92b838-c91b-4c0e-9dd4-934ee5cf25c3"
      },
      "outputs": [
        {
          "name": "stdout",
          "output_type": "stream",
          "text": [
            "Looking in indexes: https://pypi.org/simple, https://us-python.pkg.dev/colab-wheels/public/simple/\n",
            "Requirement already satisfied: glove-python-binary in /usr/local/lib/python3.8/dist-packages (0.2.0)\n",
            "Requirement already satisfied: numpy in /usr/local/lib/python3.8/dist-packages (from glove-python-binary) (1.21.6)\n",
            "Requirement already satisfied: scipy in /usr/local/lib/python3.8/dist-packages (from glove-python-binary) (1.7.3)\n"
          ]
        }
      ],
      "source": [
        "!pip install glove-python-binary"
      ]
    },
    {
      "cell_type": "code",
      "execution_count": null,
      "metadata": {
        "id": "EA0nhio6fC0d"
      },
      "outputs": [],
      "source": [
        "import glove \n",
        "from glove import Glove\n",
        "from glove import Corpus\n"
      ]
    },
    {
      "cell_type": "code",
      "execution_count": null,
      "metadata": {
        "id": "dODTEGmMfFtX"
      },
      "outputs": [],
      "source": [
        "from glove import Corpus, Glove # creating a corpus object\n",
        "\n",
        "# instantiate the corpus\n",
        "cor = Corpus() "
      ]
    },
    {
      "cell_type": "code",
      "execution_count": null,
      "metadata": {
        "id": "sXvG5dJdfFwC"
      },
      "outputs": [],
      "source": [
        "# this will create the word co occurence matrix \n",
        "cor.fit(corpus, window=5)\n",
        "\n",
        "# instantiate the model\n",
        "glove = Glove(no_components=300, learning_rate=0.05)\n",
        "\n",
        "# and fit over the corpus matrix\n",
        "glove.fit(cor.matrix, epochs=10, no_threads=4)\n",
        "\n",
        "# finally we add the vocabulary to the model\n",
        "glove.add_dictionary(cor.dictionary)\n",
        "\n",
        "# Executing (5m 33s)"
      ]
    },
    {
      "cell_type": "code",
      "execution_count": null,
      "metadata": {
        "id": "bEzn0ioYmyiz"
      },
      "outputs": [],
      "source": [
        "model_glove = glove"
      ]
    },
    {
      "cell_type": "code",
      "execution_count": null,
      "metadata": {
        "colab": {
          "base_uri": "https://localhost:8080/"
        },
        "id": "lhrduE4wfFze",
        "outputId": "e7737868-fe4a-4571-86b0-20e03abe61c9"
      },
      "outputs": [
        {
          "data": {
            "text/plain": [
              "[('ঘন', 0.8687427331547395),\n",
              " ('ঝরছে', 0.8162763349998646),\n",
              " ('কুয়াশা', 0.8013554908067106),\n",
              " ('রোদ', 0.7791172893446027),\n",
              " ('পড়তে', 0.7493537134758462),\n",
              " ('বাতাস', 0.7272724270286693),\n",
              " ('গুঁড়ি', 0.7163666199966546),\n",
              " ('ভারী', 0.6936587902713859),\n",
              " ('হালকা', 0.6827147538190723)]"
            ]
          },
          "execution_count": 16,
          "metadata": {},
          "output_type": "execute_result"
        }
      ],
      "source": [
        "model_glove.most_similar(\"কুয়াশা\", number=10)"
      ]
    },
    {
      "cell_type": "code",
      "execution_count": null,
      "metadata": {
        "colab": {
          "base_uri": "https://localhost:8080/"
        },
        "id": "lmV1M4pZpLq5",
        "outputId": "d413cd33-67c2-46a1-efec-24dd47332bb0"
      },
      "outputs": [
        {
          "data": {
            "text/plain": [
              "[('নলকা', 0.7272398636506434),\n",
              " ('বহুমুখী', 0.7190993992664826),\n",
              " ('টানেল', 0.7186439139120673),\n",
              " ('পূর্বপাড়', 0.7131852162301778),\n",
              " ('রেললাইন', 0.7105248446037318),\n",
              " ('সেতু', 0.6977446039315477),\n",
              " ('বিদ্যুৎকেন্দ্র', 0.663675926628448),\n",
              " ('কেন্দ্রটি', 0.6617114144377974),\n",
              " ('কর্ণফুলী', 0.6489573586959178)]"
            ]
          },
          "execution_count": 17,
          "metadata": {},
          "output_type": "execute_result"
        }
      ],
      "source": [
        "model_glove.most_similar(\"মেট্রোরেল\", number=10)"
      ]
    },
    {
      "cell_type": "code",
      "execution_count": null,
      "metadata": {
        "colab": {
          "base_uri": "https://localhost:8080/"
        },
        "id": "lxt_7CCipLz-",
        "outputId": "7909fb3b-490f-4328-ec90-cc045a14d1d8"
      },
      "outputs": [
        {
          "data": {
            "text/plain": [
              "[('সংরক্ষিত', 0.7374891682891751),\n",
              " ('চাকরিজীবী', 0.7204833131045878),\n",
              " ('যুব', 0.7150699880088335),\n",
              " ('মুফাসীর', 0.700035850936929),\n",
              " ('বদরুন্নেসা', 0.684775710889716),\n",
              " ('আদিবাসী', 0.6735624801740926),\n",
              " ('সংহতির', 0.6698220807546856),\n",
              " ('স্বেচ্ছাসেবক', 0.6662303105024188),\n",
              " ('বুড়ি', 0.662285475573393)]"
            ]
          },
          "execution_count": 18,
          "metadata": {},
          "output_type": "execute_result"
        }
      ],
      "source": [
        "model_glove.most_similar(\"মহিলা\", number=10)"
      ]
    },
    {
      "cell_type": "code",
      "execution_count": null,
      "metadata": {
        "colab": {
          "base_uri": "https://localhost:8080/"
        },
        "id": "2wseTlsRpL8k",
        "outputId": "5da2e536-61c0-4cea-a4ec-4c231cb40bfa"
      },
      "outputs": [
        {
          "data": {
            "text/plain": [
              "[('সিকান্দার', 0.7689530613030343),\n",
              " ('রাতুল', 0.7586055491091518),\n",
              " ('আনিস', 0.7542339620810675),\n",
              " ('কাওসার', 0.7407827887055306),\n",
              " ('সাব্বির', 0.7401117073656571),\n",
              " ('শাকিল', 0.715671832809004),\n",
              " ('টিটু', 0.7148423152530882),\n",
              " ('রাফি', 0.714594931817508),\n",
              " ('শিমুল', 0.7140578338473677)]"
            ]
          },
          "execution_count": 21,
          "metadata": {},
          "output_type": "execute_result"
        }
      ],
      "source": [
        "model_glove.most_similar(\"রাজা\", number=10)"
      ]
    },
    {
      "cell_type": "code",
      "execution_count": null,
      "metadata": {
        "id": "FikPyu-1pMGd"
      },
      "outputs": [],
      "source": [
        "jk = Glove.load(\"/content/drive/My Drive/Data_set/pre-trained model/Glove/Glove_python_100\")"
      ]
    },
    {
      "cell_type": "code",
      "execution_count": null,
      "metadata": {
        "id": "1BQgG9pmpMPE"
      },
      "outputs": [],
      "source": []
    },
    {
      "cell_type": "code",
      "execution_count": null,
      "metadata": {
        "id": "mfpgMIP5pMX_"
      },
      "outputs": [],
      "source": []
    },
    {
      "cell_type": "code",
      "execution_count": null,
      "metadata": {
        "id": "loPOMmdGnG2x"
      },
      "outputs": [],
      "source": [
        "model_glove.save(\"/content/drive/My Drive/Data_set/pre-trained model/Glove/Glove_python_100\")"
      ]
    },
    {
      "cell_type": "code",
      "execution_count": null,
      "metadata": {
        "id": "rolg4qhknwgO"
      },
      "outputs": [],
      "source": [
        "jk = model.Load(\"/content/drive/My Drive/Data_set/pre-trained model/Glove/Glove_python_100\")"
      ]
    },
    {
      "cell_type": "code",
      "execution_count": null,
      "metadata": {
        "id": "GhDMT7QtmZdh"
      },
      "outputs": [],
      "source": [
        "from gensim.test.utils import get_tmpfile\n",
        "from gensim.models import KeyedVectors\n",
        "from googledrivedownloader import GoogleDriveUploader\n",
        "fname = get_tmpfile(\"glove_model.txt\")\n",
        "glove.save(fname)"
      ]
    },
    {
      "cell_type": "code",
      "execution_count": null,
      "metadata": {
        "id": "xAwKc5anQEcG"
      },
      "outputs": [],
      "source": [
        "import gensim\n",
        "import gensim.downloader as api\n",
        "from gensim.models import Word2Vec"
      ]
    },
    {
      "cell_type": "code",
      "execution_count": null,
      "metadata": {
        "colab": {
          "base_uri": "https://localhost:8080/"
        },
        "id": "7o51kbyjmcYW",
        "outputId": "18238493-3426-4924-cdae-b3b24f16fa9d"
      },
      "outputs": [
        {
          "name": "stdout",
          "output_type": "stream",
          "text": [
            "Looking in indexes: https://pypi.org/simple, https://us-python.pkg.dev/colab-wheels/public/simple/\n",
            "Requirement already satisfied: fasttext in /usr/local/lib/python3.8/dist-packages (0.9.2)\n",
            "Requirement already satisfied: numpy in /usr/local/lib/python3.8/dist-packages (from fasttext) (1.21.6)\n",
            "Requirement already satisfied: setuptools>=0.7.0 in /usr/local/lib/python3.8/dist-packages (from fasttext) (57.4.0)\n",
            "Requirement already satisfied: pybind11>=2.2 in /usr/local/lib/python3.8/dist-packages (from fasttext) (2.10.3)\n"
          ]
        }
      ],
      "source": [
        "!pip install fasttext"
      ]
    },
    {
      "cell_type": "code",
      "execution_count": null,
      "metadata": {
        "id": "vcrkmWzFCRBj"
      },
      "outputs": [],
      "source": [
        "import fasttext"
      ]
    },
    {
      "cell_type": "code",
      "execution_count": null,
      "metadata": {
        "id": "GvO2QySICR-u"
      },
      "outputs": [],
      "source": [
        "ft_sk_model = fasttext.train_unsupervised(\"/content/corpus.txt\",minn=2, maxn=5, dim=100, model='cbow')\n",
        "# Executing (1h 53m)"
      ]
    },
    {
      "cell_type": "code",
      "execution_count": null,
      "metadata": {
        "id": "rv29KNQQECfh"
      },
      "outputs": [],
      "source": [
        "fasttext_cbow_100 = ft_sk_model\n",
        "# 26m 13s"
      ]
    },
    {
      "cell_type": "code",
      "execution_count": null,
      "metadata": {
        "id": "FJk2u0eQeUbB"
      },
      "outputs": [],
      "source": [
        "model.save_model(\"/content/drive/My Drive/Data_set/pre-trained model/Fasttext/fasttext_cbow_100\")"
      ]
    },
    {
      "cell_type": "code",
      "execution_count": null,
      "metadata": {
        "colab": {
          "base_uri": "https://localhost:8080/"
        },
        "id": "_BQYAPf8I680",
        "outputId": "103b8705-af85-4e0d-f9f0-1a9823a42b17"
      },
      "outputs": [
        {
          "name": "stderr",
          "output_type": "stream",
          "text": [
            "Warning : `load_model` does not return WordVectorModel or SupervisedModel any more, but a `FastText` object which is very similar.\n"
          ]
        }
      ],
      "source": [
        "fasttext_cbow_100 = fasttext.load_model(\"/content/drive/My Drive/Data_set/pre-trained model/Fasttext/fasttext_cbow_100\")"
      ]
    },
    {
      "cell_type": "markdown",
      "metadata": {
        "id": "-5urcl5YqjiO"
      },
      "source": [
        "# Model Result"
      ]
    },
    {
      "cell_type": "code",
      "execution_count": null,
      "metadata": {
        "id": "ZLn-0dLUgHVA"
      },
      "outputs": [],
      "source": [
        "# !pip install glove-python-binary\n",
        "# !pip install fasttext\n",
        "# import fasttext\n",
        "# from gensim.models.fasttext import FastText\n",
        "from gensim.models import Word2Vec\n",
        "# from glove import Glove\n",
        "word2vec_gs_sg0_100 = Word2Vec.load(\"/content/drive/My Drive/Data_set/pre-trained model/word2vec/word2vec_gs_sg0_100\")\n",
        "# word2vec_gs_sg0_300 = Word2Vec.load(\"/content/drive/My Drive/Data_set/pre-trained model/word2vec/word2vec_gs_sg0_300\")\n",
        "# word2vec_gs_sg1_100 = Word2Vec.load(\"/content/drive/My Drive/Data_set/pre-trained model/word2vec/word2vec_gs_sg1_100\")\n",
        "# word2vec_gs_sg1_300 = Word2Vec.load(\"/content/drive/My Drive/Data_set/pre-trained model/word2vec/word2vec_gs_sg1_300\")\n",
        "# fasttext_gs_sg1_100 = FastText.load('/content/drive/MyDrive/Data_set/pre-trained model/Fasttext/fasttext_gs_sg1_100')\n",
        "# fasttext_gs_sg1_300 = FastText.load('/content/drive/MyDrive/Data_set/pre-trained model/Fasttext/fasttext_gs_sg1_300')\n",
        "# fasttext_gs_sg0_100 = FastText.load('/content/drive/MyDrive/Data_set/pre-trained model/Fasttext/fasttext_gs_sg0_100')\n",
        "# fasttext_gs_sg0_300 = FastText.load('/content/drive/MyDrive/Data_set/pre-trained model/Fasttext/fasttext_gs_sg0_300')\n",
        "# model = Glove.load(\"/content/drive/My Drive/Data_set/pre-trained model/Glove/Glove_python_100\")\n",
        "# model = Glove.load(\"/content/drive/My Drive/Data_set/pre-trained model/Glove/Glove_python_300\")\n",
        "# fasttext_sg1_100 = fasttext.load_model(\"/content/drive/My Drive/Data_set/pre-trained model/Fasttext/fasttext_sg1_100\")\n",
        "# fasttext_cbow_100 = fasttext.load_model(\"/content/drive/My Drive/Data_set/pre-trained model/Fasttext/fasttext_cbow_100\")"
      ]
    },
    {
      "cell_type": "code",
      "execution_count": null,
      "metadata": {
        "id": "j7Q3NUmqyOx_"
      },
      "outputs": [],
      "source": [
        "word2vec_gs_sg1_100 = 30m 28s\n",
        "word2vec_gs_sg1_300 = 41m 19s\n",
        "word2vec_gs_sg0_100 = 9m 9s\n",
        "word2vec_gs_sg0_300 = 12m 38s\n",
        "fasttext_gs_sg1_100 = 47m 48s\n",
        "fasttext_gs_sg1_300 = 1h 35m\n",
        "fasttext_gs_sg0_100 = 31m 56s\n",
        "fasttext_gs_sg0_300 = 54m 22s\n",
        "glove by python_100 = 15m 24s\n",
        "fasttext_sg1_100 = 44m 45s\n",
        "fasttext_cbow_100 = 26m 13s\n",
        "Number of unique in vocabulary = 465211\n",
        "total_word = 27825539"
      ]
    },
    {
      "cell_type": "code",
      "execution_count": null,
      "metadata": {
        "colab": {
          "base_uri": "https://localhost:8080/"
        },
        "id": "zvEqh034FGDB",
        "outputId": "1d3abf51-e4ac-4674-f229-7d640cb1d21b"
      },
      "outputs": [
        {
          "data": {
            "text/plain": [
              "[('বাতাস', 0.8055527210235596),\n",
              " ('শীত', 0.8016539812088013),\n",
              " ('রোদ', 0.7992282509803772),\n",
              " ('ঘন', 0.7736377716064453),\n",
              " ('কনকনে', 0.7713310122489929),\n",
              " ('ভ্যাপসা', 0.7668533325195312),\n",
              " ('বৃষ্টিও', 0.7581560611724854),\n",
              " ('ঝোড়ো', 0.7573686838150024),\n",
              " ('কুয়াশার', 0.7514734268188477),\n",
              " ('কুয়াশায়', 0.7490196228027344)]"
            ]
          },
          "execution_count": 3,
          "metadata": {},
          "output_type": "execute_result"
        }
      ],
      "source": [
        "word2vec_gs_sg0_100.wv.most_similar([\"কুয়াশা\"] , topn=10)"
      ]
    },
    {
      "cell_type": "code",
      "execution_count": null,
      "metadata": {
        "colab": {
          "base_uri": "https://localhost:8080/"
        },
        "id": "au23lmif9GP9",
        "outputId": "0d0dd856-4d95-4399-f2e5-814332fa2e6a"
      },
      "outputs": [
        {
          "data": {
            "text/plain": [
              "[('এক্সপ্রেসওয়ে', 0.8454931974411011),\n",
              " ('এলিভেটেড', 0.8332984447479248),\n",
              " ('টানেল', 0.796747088432312),\n",
              " ('বিআরটি', 0.7688660621643066),\n",
              " ('মেট্রোরেলের', 0.7666299343109131),\n",
              " ('এক্সপ্রেসওয়ের', 0.7131284475326538),\n",
              " ('ফ্লাইওভার', 0.7084664702415466),\n",
              " ('এক্সপ্রেসওয়ে', 0.6966019868850708),\n",
              " ('রেললাইন', 0.6963473558425903),\n",
              " ('পদ্মাসেতু', 0.6934511661529541)]"
            ]
          },
          "execution_count": 4,
          "metadata": {},
          "output_type": "execute_result"
        }
      ],
      "source": [
        "word2vec_gs_sg0_100.wv.most_similar([\"মেট্রোরেল\"] , topn=10)"
      ]
    },
    {
      "cell_type": "code",
      "execution_count": null,
      "metadata": {
        "colab": {
          "base_uri": "https://localhost:8080/"
        },
        "id": "rJkFz9XKFncm",
        "outputId": "533e961b-67a4-4fb1-b6fc-559b8d1a9b2b"
      },
      "outputs": [
        {
          "data": {
            "text/plain": [
              "[('শিশুবিষয়ক', 0.5570528507232666),\n",
              " ('সংরক্ষিত', 0.5317384600639343),\n",
              " ('যুব', 0.5268213748931885)]"
            ]
          },
          "execution_count": 6,
          "metadata": {},
          "output_type": "execute_result"
        }
      ],
      "source": [
        "word2vec_gs_sg0_100.wv.most_similar(positive=['মহিলা', 'পুরুষ'], negative=['মেয়ে'], topn=3)"
      ]
    },
    {
      "cell_type": "code",
      "execution_count": null,
      "metadata": {
        "colab": {
          "background_save": true,
          "base_uri": "https://localhost:8080/"
        },
        "id": "bXEWw1Whk5-m",
        "outputId": "a1370aac-716a-4864-8404-8d9f3f196d30"
      },
      "outputs": [
        {
          "data": {
            "text/plain": [
              "[('পাকিস্তান', 0.7045680284500122),\n",
              " ('ভারত', 0.6577026844024658),\n",
              " ('ভারতও', 0.6489845514297485),\n",
              " ('ব্রিটেন', 0.6324763298034668),\n",
              " ('পাকিস্তানকে', 0.6197738647460938),\n",
              " ('সুইডেন', 0.6160389184951782),\n",
              " ('অস্ট্রেলিয়া', 0.614708662033081),\n",
              " ('আফগানিস্তান', 0.6055076122283936),\n",
              " ('দেশটি', 0.6034731268882751),\n",
              " ('ভারতকে', 0.602656900882721)]"
            ]
          },
          "execution_count": 5,
          "metadata": {},
          "output_type": "execute_result"
        }
      ],
      "source": [
        "\n",
        "word2vec_gs_sg0_100.wv.most_similar(positive\n",
        "=['বাংলাদেশ', 'ইসলামাবাদ'], negative=['ঢাকা'], topn=3)"
      ]
    },
    {
      "cell_type": "code",
      "execution_count": null,
      "metadata": {
        "colab": {
          "base_uri": "https://localhost:8080/"
        },
        "id": "j5qhrb2Ck6GZ",
        "outputId": "bd415d35-1672-48ab-fdf6-450f39f222de"
      },
      "outputs": [
        {
          "data": {
            "text/plain": [
              "[('রানি', 0.7919169664382935),\n",
              " ('রানির', 0.7211582064628601),\n",
              " ('গায়িকা', 0.6812238097190857),\n",
              " ('কনোর', 0.6793659925460815),\n",
              " ('সিংহাসনে', 0.6768032312393188),\n",
              " ('শীলা', 0.6766494512557983),\n",
              " ('রাজকন্যা', 0.672065019607544),\n",
              " ('এলিজাবেথের', 0.6683659553527832),\n",
              " ('নূপুর', 0.6629348993301392),\n",
              " ('ডায়ানা', 0.6606932878494263)]"
            ]
          },
          "execution_count": 3,
          "metadata": {},
          "output_type": "execute_result"
        }
      ],
      "source": [
        "word2vec_gs_sg0_100.wv.most_similar(positive=['রাজা', 'মেয়ে'], negative=['ছেলে'], topn=10)"
      ]
    },
    {
      "cell_type": "code",
      "execution_count": null,
      "metadata": {
        "colab": {
          "base_uri": "https://localhost:8080/"
        },
        "id": "6nKb0vf2k6KU",
        "outputId": "78821003-1a84-4724-934d-793784907c20"
      },
      "outputs": [
        {
          "data": {
            "text/plain": [
              "0.048050936"
            ]
          },
          "execution_count": 4,
          "metadata": {},
          "output_type": "execute_result"
        }
      ],
      "source": [
        "word2vec_gs_sg0_100.wv.similarity('প্রবর্তন', 'রাজা')"
      ]
    },
    {
      "cell_type": "code",
      "execution_count": null,
      "metadata": {
        "id": "0iGMY5Q_Ilpl"
      },
      "outputs": [],
      "source": []
    },
    {
      "cell_type": "code",
      "execution_count": null,
      "metadata": {
        "colab": {
          "base_uri": "https://localhost:8080/"
        },
        "id": "kNCm-rVwk6Mw",
        "outputId": "0a29d29a-b34a-40e3-9bea-29214a669179"
      },
      "outputs": [
        {
          "data": {
            "text/plain": [
              "[('শীত', 0.7571069598197937),\n",
              " ('রোদ', 0.7516466975212097),\n",
              " ('কনকনে', 0.7398843765258789),\n",
              " ('বাতাস', 0.7398055791854858),\n",
              " ('ঘন', 0.7060925960540771),\n",
              " ('কুয়াশায়', 0.7023773193359375),\n",
              " ('ভ্যাপসা', 0.6944897174835205),\n",
              " ('ঝোড়ো', 0.6934114694595337),\n",
              " ('কুয়াশার', 0.6839745044708252),\n",
              " ('স্রোত', 0.6683980822563171)]"
            ]
          },
          "execution_count": 9,
          "metadata": {},
          "output_type": "execute_result"
        }
      ],
      "source": [
        "word2vec_gs_sg0_300.wv.most_similar([\"কুয়াশা\"] , topn=10)"
      ]
    },
    {
      "cell_type": "code",
      "execution_count": null,
      "metadata": {
        "colab": {
          "base_uri": "https://localhost:8080/"
        },
        "id": "ks7bQqUzGJa2",
        "outputId": "2fdb6071-5529-4f36-b171-f34256224060"
      },
      "outputs": [
        {
          "data": {
            "text/plain": [
              "[('এক্সপ্রেসওয়ে', 0.7506396770477295),\n",
              " ('এলিভেটেড', 0.7398675680160522),\n",
              " ('টানেল', 0.7287229299545288),\n",
              " ('পদ্মাসেতু', 0.6942799091339111),\n",
              " ('মেট্রোরেলের', 0.6862154603004456),\n",
              " ('ফ্লাইওভার', 0.6578311920166016),\n",
              " ('রেললাইন', 0.6275181770324707),\n",
              " ('বিআরটি', 0.6272804737091064),\n",
              " ('এক্সপ্রেসওয়ের', 0.6142202019691467),\n",
              " ('আন্ডারপাস', 0.6142109632492065)]"
            ]
          },
          "execution_count": 10,
          "metadata": {},
          "output_type": "execute_result"
        }
      ],
      "source": [
        "word2vec_gs_sg0_300.wv.most_similar([\"মেট্রোরেল\"] , topn=10)"
      ]
    },
    {
      "cell_type": "code",
      "execution_count": null,
      "metadata": {
        "colab": {
          "base_uri": "https://localhost:8080/"
        },
        "id": "SKJU0gWJGJgc",
        "outputId": "a78639dc-eb73-4144-cc40-8afaa0a890b1"
      },
      "outputs": [
        {
          "data": {
            "text/plain": [
              "[('গাড়িচালকদের', 0.44441646337509155),\n",
              " ('শিশুবিষয়ক', 0.41738367080688477),\n",
              " ('নারী', 0.40607985854148865)]"
            ]
          },
          "execution_count": 11,
          "metadata": {},
          "output_type": "execute_result"
        }
      ],
      "source": [
        "word2vec_gs_sg0_300.wv.most_similar(positive=['মহিলা', 'পুরুষ'], negative=['মেয়ে'], topn=3)"
      ]
    },
    {
      "cell_type": "code",
      "execution_count": null,
      "metadata": {
        "colab": {
          "base_uri": "https://localhost:8080/"
        },
        "id": "g3BMQ4zuGJmh",
        "outputId": "f32de939-5698-4eb0-e8f9-c3af7badfb4e"
      },
      "outputs": [
        {
          "data": {
            "text/plain": [
              "[('পাকিস্তান', 0.6200746297836304),\n",
              " ('সুইডেন', 0.5354422926902771),\n",
              " ('দেশটি', 0.5302954912185669)]"
            ]
          },
          "execution_count": 18,
          "metadata": {},
          "output_type": "execute_result"
        }
      ],
      "source": [
        "\n",
        "word2vec_gs_sg0_300.wv.most_similar(positive\n",
        "=['বাংলাদেশ','ইসলামাবাদ'],negative=['ঢাকা'], topn=3)"
      ]
    },
    {
      "cell_type": "code",
      "execution_count": null,
      "metadata": {
        "colab": {
          "base_uri": "https://localhost:8080/"
        },
        "id": "XQaOXVHQGJsX",
        "outputId": "99c81d25-07c8-457e-942d-aa0abeca6e90"
      },
      "outputs": [
        {
          "data": {
            "text/plain": [
              "[('রানি', 0.6271569728851318),\n",
              " ('রানির', 0.5631905198097229),\n",
              " ('গায়িকা', 0.543364405632019)]"
            ]
          },
          "execution_count": 19,
          "metadata": {},
          "output_type": "execute_result"
        }
      ],
      "source": [
        "word2vec_gs_sg0_300.wv.most_similar(positive\n",
        "=['রাজা', 'মেয়ে'], negative=['ছেলে'], topn=3)"
      ]
    },
    {
      "cell_type": "code",
      "execution_count": null,
      "metadata": {
        "colab": {
          "base_uri": "https://localhost:8080/"
        },
        "id": "qUsngEmhGJzx",
        "outputId": "6c8e2677-eadc-40f2-e1b0-766a5f69baa4"
      },
      "outputs": [
        {
          "data": {
            "text/plain": [
              "0.003550604"
            ]
          },
          "execution_count": 14,
          "metadata": {},
          "output_type": "execute_result"
        }
      ],
      "source": [
        "word2vec_gs_sg0_300.wv.similarity('প্রবর্তন', 'রাজা')"
      ]
    },
    {
      "cell_type": "code",
      "execution_count": null,
      "metadata": {
        "id": "YIthsJ2_GKOH"
      },
      "outputs": [],
      "source": []
    },
    {
      "cell_type": "code",
      "execution_count": null,
      "metadata": {
        "colab": {
          "base_uri": "https://localhost:8080/"
        },
        "id": "YYgl5_T5INZg",
        "outputId": "60506ab0-539f-40ee-c7a5-8266bd8b9514"
      },
      "outputs": [
        {
          "data": {
            "text/plain": [
              "[('ঘনকুয়াশা', 0.8485482931137085),\n",
              " ('ভ্যাপসা', 0.8257817625999451),\n",
              " ('গুঁড়িগুঁড়ি', 0.8187628388404846),\n",
              " ('বাতাসও', 0.7964993715286255),\n",
              " ('কুয়াশার', 0.7954361438751221),\n",
              " ('বজ্রপাতও', 0.7904238700866699),\n",
              " ('কুয়াশায়', 0.7824938297271729),\n",
              " ('ঘন', 0.7819479703903198),\n",
              " ('ঝিরিঝিরি', 0.7776706218719482),\n",
              " ('বৃষ্টিরও', 0.7746886014938354)]"
            ]
          },
          "execution_count": 15,
          "metadata": {},
          "output_type": "execute_result"
        }
      ],
      "source": [
        "word2vec_gs_sg1_100.wv.most_similar([\"কুয়াশা\"] , topn=10)"
      ]
    },
    {
      "cell_type": "code",
      "execution_count": null,
      "metadata": {
        "colab": {
          "base_uri": "https://localhost:8080/"
        },
        "id": "GIPMuULAINZh",
        "outputId": "0c8ca843-0fbc-43ee-a7b6-d9c824dc99e4"
      },
      "outputs": [
        {
          "data": {
            "text/plain": [
              "[('এলিভেটেড', 0.8639034032821655),\n",
              " ('এক্সপ্রেসওয়ে', 0.8400706648826599),\n",
              " ('মেট্রোরেলের', 0.825241208076477),\n",
              " ('টানেল', 0.8094684481620789),\n",
              " ('এমআরটি', 0.7954422235488892),\n",
              " ('ফ্লাইওভার', 0.7847654819488525),\n",
              " ('বিআরটি', 0.7793248295783997),\n",
              " ('এক্সপ্রেসওয়ের', 0.7780054807662964),\n",
              " ('সেতু', 0.776928186416626),\n",
              " ('এক্সপ্রেসওয়ে', 0.7768104076385498)]"
            ]
          },
          "execution_count": 16,
          "metadata": {},
          "output_type": "execute_result"
        }
      ],
      "source": [
        "word2vec_gs_sg1_100.wv.most_similar([\"মেট্রোরেল\"] , topn=10)"
      ]
    },
    {
      "cell_type": "code",
      "execution_count": null,
      "metadata": {
        "colab": {
          "base_uri": "https://localhost:8080/"
        },
        "id": "k57pGvijINZh",
        "outputId": "5f66ae3b-364a-42e4-c7d0-a578d2575878"
      },
      "outputs": [
        {
          "data": {
            "text/plain": [
              "[('নারী', 0.6237887144088745),\n",
              " ('ভোটর', 0.566781222820282),\n",
              " ('ভ্যাকসিনেটর', 0.5632707476615906)]"
            ]
          },
          "execution_count": 17,
          "metadata": {},
          "output_type": "execute_result"
        }
      ],
      "source": [
        "word2vec_gs_sg1_100.wv.most_similar(positive=['মহিলা', 'পুরুষ'], negative=['মেয়ে'], topn=3)"
      ]
    },
    {
      "cell_type": "code",
      "execution_count": null,
      "metadata": {
        "colab": {
          "base_uri": "https://localhost:8080/"
        },
        "id": "7WbFwWkPINZh",
        "outputId": "621b397b-d9f1-4525-81eb-982432d49cbe"
      },
      "outputs": [
        {
          "data": {
            "text/plain": [
              "[('পাকিস্তান', 0.6200746297836304),\n",
              " ('সুইডেন', 0.5354422926902771),\n",
              " ('দেশটি', 0.5302954912185669)]"
            ]
          },
          "execution_count": 20,
          "metadata": {},
          "output_type": "execute_result"
        }
      ],
      "source": [
        "\n",
        "word2vec_gs_sg1_100.wv.most_similar(positive\n",
        "=['বাংলাদেশ', 'ইসলামাবাদ'], negative=['ঢাকা'], topn=3)"
      ]
    },
    {
      "cell_type": "code",
      "execution_count": null,
      "metadata": {
        "colab": {
          "base_uri": "https://localhost:8080/"
        },
        "id": "Hk-E2kH4INZh",
        "outputId": "b639aec9-d8ee-4080-fbf3-79ebd17818ef"
      },
      "outputs": [
        {
          "data": {
            "text/plain": [
              "[('রানি', 0.6271569728851318),\n",
              " ('রানির', 0.5631905198097229),\n",
              " ('গায়িকা', 0.543364405632019)]"
            ]
          },
          "execution_count": 21,
          "metadata": {},
          "output_type": "execute_result"
        }
      ],
      "source": [
        "word2vec_gs_sg1_100.wv.most_similar(positive\n",
        "=['রাজা', 'মেয়ে'], negative=['ছেলে'], topn=3)"
      ]
    },
    {
      "cell_type": "code",
      "execution_count": null,
      "metadata": {
        "colab": {
          "base_uri": "https://localhost:8080/"
        },
        "id": "0ZodoX83INZh",
        "outputId": "002f2d9e-6be4-432b-cf83-c499fce670b6"
      },
      "outputs": [
        {
          "data": {
            "text/plain": [
              "0.24650405"
            ]
          },
          "execution_count": 20,
          "metadata": {},
          "output_type": "execute_result"
        }
      ],
      "source": [
        "word2vec_gs_sg1_100.wv.similarity('প্রবর্তন', 'রাজা')"
      ]
    },
    {
      "cell_type": "code",
      "execution_count": null,
      "metadata": {
        "id": "YGhSCA-QGKT-"
      },
      "outputs": [],
      "source": []
    },
    {
      "cell_type": "code",
      "execution_count": null,
      "metadata": {
        "id": "kSnuaa_IGKae"
      },
      "outputs": [],
      "source": []
    },
    {
      "cell_type": "code",
      "execution_count": null,
      "metadata": {
        "colab": {
          "base_uri": "https://localhost:8080/"
        },
        "id": "QgvgNIHTISBn",
        "outputId": "985b4158-08bb-4f5f-84b3-100072e485bc"
      },
      "outputs": [
        {
          "data": {
            "text/plain": [
              "[('ঘনকুয়াশা', 0.7270201444625854),\n",
              " ('ভ্যাপসা', 0.6956566572189331),\n",
              " ('গুঁড়িগুঁড়ি', 0.6904441714286804),\n",
              " ('কুয়াশার', 0.6828926801681519),\n",
              " ('কুয়াশায়', 0.6697243452072144),\n",
              " ('বজ্রপাতও', 0.6693300008773804),\n",
              " ('কনকনে', 0.6553128957748413),\n",
              " ('ঘন', 0.6523224115371704),\n",
              " ('বাতাসও', 0.6491879224777222),\n",
              " ('কুয়াশা', 0.6466500759124756)]"
            ]
          },
          "execution_count": 4,
          "metadata": {},
          "output_type": "execute_result"
        }
      ],
      "source": [
        "word2vec_gs_sg1_300.wv.most_similar([\"কুয়াশা\"] , topn=10)"
      ]
    },
    {
      "cell_type": "code",
      "execution_count": null,
      "metadata": {
        "colab": {
          "base_uri": "https://localhost:8080/"
        },
        "id": "STyBMZEvISBn",
        "outputId": "6702d666-0c53-41c3-c1c6-21e561cc0814"
      },
      "outputs": [
        {
          "data": {
            "text/plain": [
              "[('এলিভেটেড', 0.7292377948760986),\n",
              " ('মেট্রোরেলের', 0.692162036895752),\n",
              " ('এমআরটি', 0.6847621202468872),\n",
              " ('এক্সপ্রেসওয়ে', 0.6769453287124634),\n",
              " ('টানেল', 0.645955502986908),\n",
              " ('বিআরটি', 0.6294627785682678),\n",
              " ('টানেলসহ', 0.607150673866272),\n",
              " ('এক্সপ্রেসওয়ের', 0.6059511303901672),\n",
              " ('এক্সপ্রেসওয়ে', 0.6027036905288696),\n",
              " ('ফোরলেন', 0.59942227602005)]"
            ]
          },
          "execution_count": 5,
          "metadata": {},
          "output_type": "execute_result"
        }
      ],
      "source": [
        "word2vec_gs_sg1_300.wv.most_similar([\"মেট্রোরেল\"] , topn=10)"
      ]
    },
    {
      "cell_type": "code",
      "execution_count": null,
      "metadata": {
        "colab": {
          "base_uri": "https://localhost:8080/"
        },
        "id": "_L_DPUMPISBn",
        "outputId": "82a39cc2-c526-49ea-9c29-35028a57f542"
      },
      "outputs": [
        {
          "data": {
            "text/plain": [
              "[('নারী', 0.5568616390228271),\n",
              " ('ভোটর', 0.433505117893219),\n",
              " ('ভোটারের', 0.4294587969779968)]"
            ]
          },
          "execution_count": 6,
          "metadata": {},
          "output_type": "execute_result"
        }
      ],
      "source": [
        "word2vec_gs_sg1_300.wv.most_similar(positive=['মহিলা', 'পুরুষ'], negative=['মেয়ে'], topn=3)"
      ]
    },
    {
      "cell_type": "code",
      "execution_count": null,
      "metadata": {
        "colab": {
          "base_uri": "https://localhost:8080/"
        },
        "id": "2CCPkEk1ISBo",
        "outputId": "508d2f57-bc29-44e4-9cd2-93c8be2a9c5a"
      },
      "outputs": [
        {
          "data": {
            "text/plain": [
              "[('পাকিস্তান', 0.5622924566268921),\n",
              " ('পাকিস্তানের', 0.4593409299850464),\n",
              " ('ভারত', 0.4499926269054413)]"
            ]
          },
          "execution_count": 22,
          "metadata": {},
          "output_type": "execute_result"
        }
      ],
      "source": [
        "\n",
        "word2vec_gs_sg1_300.wv.most_similar(positive\n",
        "=['বাংলাদেশ', 'ইসলামাবাদ'], negative=['ঢাকা'], topn=3)"
      ]
    },
    {
      "cell_type": "code",
      "execution_count": null,
      "metadata": {
        "colab": {
          "base_uri": "https://localhost:8080/"
        },
        "id": "hpzdiU4UISBo",
        "outputId": "6c3abd38-4647-45d2-85ec-e24cd4ffc43e"
      },
      "outputs": [
        {
          "data": {
            "text/plain": [
              "[('ভাজিরালংকর্ন', 0.4837181568145752),\n",
              " ('রাজার', 0.47727203369140625),\n",
              " ('ভাজিরালংকর্ণ', 0.4726111888885498)]"
            ]
          },
          "execution_count": 23,
          "metadata": {},
          "output_type": "execute_result"
        }
      ],
      "source": [
        "word2vec_gs_sg1_300.wv.most_similar(positive\n",
        "=['রাজা', 'মেয়ে'], negative=['ছেলে'], topn=3)"
      ]
    },
    {
      "cell_type": "code",
      "execution_count": null,
      "metadata": {
        "colab": {
          "base_uri": "https://localhost:8080/"
        },
        "id": "4CeoYd8sISBo",
        "outputId": "4ba521d5-36bc-430a-8c1e-936b18821b73"
      },
      "outputs": [
        {
          "data": {
            "text/plain": [
              "0.113749795"
            ]
          },
          "execution_count": 9,
          "metadata": {},
          "output_type": "execute_result"
        }
      ],
      "source": [
        "word2vec_gs_sg1_300.wv.similarity('প্রবর্তন', 'রাজা')"
      ]
    },
    {
      "cell_type": "code",
      "execution_count": null,
      "metadata": {
        "id": "CNzFddLHGKf7"
      },
      "outputs": [],
      "source": []
    },
    {
      "cell_type": "code",
      "execution_count": null,
      "metadata": {
        "id": "kpKN0tfWGKmm"
      },
      "outputs": [],
      "source": []
    },
    {
      "cell_type": "code",
      "execution_count": null,
      "metadata": {
        "colab": {
          "base_uri": "https://localhost:8080/"
        },
        "id": "YknaIEBtITCb",
        "outputId": "de94e0d4-b0f7-469a-e8ee-9bf59cc08dd8"
      },
      "outputs": [
        {
          "data": {
            "text/plain": [
              "[('ঘনকুয়াশা', 0.955071747303009),\n",
              " ('কুয়াশাও', 0.9503843784332275),\n",
              " ('কুয়াশার', 0.9033924341201782),\n",
              " ('কুয়াশায়', 0.8972080945968628),\n",
              " ('ঘনকুয়াশার', 0.8786872625350952),\n",
              " ('কুয়াশাচ্ছন্ন', 0.8405905961990356),\n",
              " ('ঘন', 0.799871027469635),\n",
              " ('গুঁড়িগুঁড়ি', 0.7985829710960388),\n",
              " ('মেঘও', 0.7942732572555542),\n",
              " ('ভ্যাপসা', 0.789848804473877)]"
            ]
          },
          "execution_count": 10,
          "metadata": {},
          "output_type": "execute_result"
        }
      ],
      "source": [
        "fasttext_gs_sg1_100.wv.most_similar([\"কুয়াশা\"] , topn=10)"
      ]
    },
    {
      "cell_type": "code",
      "execution_count": null,
      "metadata": {
        "colab": {
          "base_uri": "https://localhost:8080/"
        },
        "id": "z_daVwRMITCb",
        "outputId": "8091351d-b23c-49b8-b003-d5905cdf9eb3"
      },
      "outputs": [
        {
          "data": {
            "text/plain": [
              "[('মেট্রোরেলও', 0.9614615440368652),\n",
              " ('মেট্রোরেলে', 0.9439646005630493),\n",
              " ('মেট্রোরেলের', 0.9262422323226929),\n",
              " ('মেট্রোরেলসহ', 0.9020270109176636),\n",
              " ('এলিভেটেড', 0.8451743721961975),\n",
              " ('এক্সপ্রেসওয়ে', 0.7714332938194275),\n",
              " ('ফ্লাইওভার', 0.7673085927963257),\n",
              " ('বিআরটি', 0.7668994665145874),\n",
              " ('এলিভেটর', 0.7664886116981506),\n",
              " ('এমআরটি', 0.764568567276001)]"
            ]
          },
          "execution_count": 11,
          "metadata": {},
          "output_type": "execute_result"
        }
      ],
      "source": [
        "fasttext_gs_sg1_100.wv.most_similar([\"মেট্রোরেল\"] , topn=10)"
      ]
    },
    {
      "cell_type": "code",
      "execution_count": null,
      "metadata": {
        "colab": {
          "base_uri": "https://localhost:8080/"
        },
        "id": "YrsPRxjpITCb",
        "outputId": "65710526-330f-4852-edab-bdf5c28f4dc5"
      },
      "outputs": [
        {
          "data": {
            "text/plain": [
              "[('নারী', 0.602339506149292),\n",
              " ('সংরক্ষিত', 0.537584125995636),\n",
              " ('মহিলাসহ', 0.5324113368988037)]"
            ]
          },
          "execution_count": 12,
          "metadata": {},
          "output_type": "execute_result"
        }
      ],
      "source": [
        "fasttext_gs_sg1_100.wv.most_similar(positive=['মহিলা', 'পুরুষ'], negative=['মেয়ে'], topn=3)"
      ]
    },
    {
      "cell_type": "code",
      "execution_count": null,
      "metadata": {
        "colab": {
          "base_uri": "https://localhost:8080/"
        },
        "id": "dfbozEuCITCb",
        "outputId": "c69c022c-85d4-4436-e54c-4bb07539b1d0"
      },
      "outputs": [
        {
          "data": {
            "text/plain": [
              "[('পাকিস্তান', 0.7125189304351807),\n",
              " ('পাকিস্তানও', 0.6797451972961426),\n",
              " ('ভারত', 0.6759352684020996)]"
            ]
          },
          "execution_count": 27,
          "metadata": {},
          "output_type": "execute_result"
        }
      ],
      "source": [
        "\n",
        "fasttext_gs_sg1_100.wv.most_similar(positive\n",
        "=['বাংলাদেশ', 'ইসলামাবাদ'], negative=['ঢাকা'], topn=3)"
      ]
    },
    {
      "cell_type": "code",
      "execution_count": null,
      "metadata": {
        "colab": {
          "base_uri": "https://localhost:8080/"
        },
        "id": "UI6gPh9bITCb",
        "outputId": "fda9f813-5331-49f5-9154-0d7232e840f1"
      },
      "outputs": [
        {
          "data": {
            "text/plain": [
              "[('সালতামামি', 0.7117267847061157),\n",
              " ('রাজার', 0.7096242308616638),\n",
              " ('রানি', 0.7072427868843079)]"
            ]
          },
          "execution_count": 28,
          "metadata": {},
          "output_type": "execute_result"
        }
      ],
      "source": [
        "fasttext_gs_sg1_100.wv.most_similar(positive\n",
        "=['রাজা', 'মেয়ে'], negative=['ছেলে'], topn=3)"
      ]
    },
    {
      "cell_type": "code",
      "execution_count": null,
      "metadata": {
        "colab": {
          "base_uri": "https://localhost:8080/"
        },
        "id": "i-ClPza2ITCb",
        "outputId": "a236b656-b34b-465d-e99a-655579344a04"
      },
      "outputs": [
        {
          "data": {
            "text/plain": [
              "0.38955325"
            ]
          },
          "execution_count": 14,
          "metadata": {},
          "output_type": "execute_result"
        }
      ],
      "source": [
        "fasttext_gs_sg1_100.wv.similarity('প্রবর্তন', 'রাজা')"
      ]
    },
    {
      "cell_type": "code",
      "execution_count": null,
      "metadata": {
        "id": "0pBDiWcaGKsg"
      },
      "outputs": [],
      "source": []
    },
    {
      "cell_type": "code",
      "execution_count": null,
      "metadata": {
        "id": "M1VXwEI_GK4C"
      },
      "outputs": [],
      "source": []
    },
    {
      "cell_type": "code",
      "execution_count": null,
      "metadata": {
        "colab": {
          "base_uri": "https://localhost:8080/"
        },
        "id": "diDoYQouIUp9",
        "outputId": "27398d91-5b9e-4c6e-c2a1-bd4643f83b37"
      },
      "outputs": [
        {
          "data": {
            "text/plain": [
              "[('ঘনকুয়াশা', 0.9462637901306152),\n",
              " ('কুয়াশাও', 0.933032214641571),\n",
              " ('কুয়াশায়', 0.8841840028762817),\n",
              " ('কুয়াশার', 0.8789616823196411),\n",
              " ('ঘনকুয়াশার', 0.8421176671981812),\n",
              " ('কুয়াশাচ্ছন্ন', 0.7924590110778809),\n",
              " ('ঘন', 0.6507999300956726),\n",
              " ('ঝড়বৃষ্টি', 0.6424121856689453),\n",
              " ('গুঁড়িগুঁড়ি', 0.6393018364906311),\n",
              " ('কনকনে', 0.6302749514579773)]"
            ]
          },
          "execution_count": 3,
          "metadata": {},
          "output_type": "execute_result"
        }
      ],
      "source": [
        "fasttext_gs_sg1_300.wv.most_similar([\"কুয়াশা\"] , topn=10)"
      ]
    },
    {
      "cell_type": "code",
      "execution_count": null,
      "metadata": {
        "colab": {
          "base_uri": "https://localhost:8080/"
        },
        "id": "z2HumnV5IUp9",
        "outputId": "039de858-eafb-466f-fe54-a9e914804710"
      },
      "outputs": [
        {
          "data": {
            "text/plain": [
              "[('মেট্রোরেলও', 0.9612268209457397),\n",
              " ('মেট্রোরেলে', 0.9483367204666138),\n",
              " ('মেট্রোরেলের', 0.923438549041748),\n",
              " ('মেট্রোরেলসহ', 0.9031366109848022),\n",
              " ('মেট্রোর', 0.7218939065933228),\n",
              " ('এলিভেটেড', 0.6957094669342041),\n",
              " ('এক্সপ্রেসওয়ে', 0.6483370661735535),\n",
              " ('এমআরটি', 0.6246091723442078),\n",
              " ('টানেল', 0.621452808380127),\n",
              " ('এক্সপ্রেসওয়ের', 0.6150929927825928)]"
            ]
          },
          "execution_count": 4,
          "metadata": {},
          "output_type": "execute_result"
        }
      ],
      "source": [
        "fasttext_gs_sg1_300.wv.most_similar([\"মেট্রোরেল\"] , topn=10)"
      ]
    },
    {
      "cell_type": "code",
      "execution_count": null,
      "metadata": {
        "colab": {
          "base_uri": "https://localhost:8080/"
        },
        "id": "Fq5PoaAzIUp9",
        "outputId": "403612fc-8638-405a-bc06-4e1751aff408"
      },
      "outputs": [
        {
          "data": {
            "text/plain": [
              "[('নারী', 0.5249438881874084),\n",
              " ('পুরুষও', 0.5197290182113647),\n",
              " ('মহিলাসহ', 0.49494045972824097)]"
            ]
          },
          "execution_count": 5,
          "metadata": {},
          "output_type": "execute_result"
        }
      ],
      "source": [
        "fasttext_gs_sg1_300.wv.most_similar(positive=['মহিলা', 'পুরুষ'], negative=['মেয়ে'], topn=3)"
      ]
    },
    {
      "cell_type": "code",
      "execution_count": null,
      "metadata": {
        "colab": {
          "base_uri": "https://localhost:8080/"
        },
        "id": "Cv9WOuv1IUp9",
        "outputId": "4f5535b3-0b7e-4033-ed69-c175cd375b95"
      },
      "outputs": [
        {
          "data": {
            "text/plain": [
              "[('দিল্লিও', 0.5941457748413086),\n",
              " ('দিল্লী', 0.5499972105026245),\n",
              " ('দিল্লিস্থ', 0.5470802187919617)]"
            ]
          },
          "execution_count": 6,
          "metadata": {},
          "output_type": "execute_result"
        }
      ],
      "source": [
        "\n",
        "fasttext_gs_sg1_300.wv.most_similar(positive\n",
        "=['বাংলাদেশ', 'ইসলামাবাদ'], negative=['ঢাকা'], topn=3)"
      ]
    },
    {
      "cell_type": "code",
      "execution_count": null,
      "metadata": {
        "colab": {
          "base_uri": "https://localhost:8080/"
        },
        "id": "lpLP3940IUp9",
        "outputId": "63692601-56dd-4d9b-99e5-fb7d306c183b"
      },
      "outputs": [
        {
          "data": {
            "text/plain": [
              "[('রাজার', 0.5719311833381653),\n",
              " ('রাজাহার', 0.5538002252578735),\n",
              " ('রাজারা', 0.5467007160186768)]"
            ]
          },
          "execution_count": 7,
          "metadata": {},
          "output_type": "execute_result"
        }
      ],
      "source": [
        "fasttext_gs_sg1_300.wv.most_similar(positive\n",
        "=['রাজা', 'মেয়ে'], negative=['ছেলে'], topn=3)"
      ]
    },
    {
      "cell_type": "code",
      "execution_count": null,
      "metadata": {
        "colab": {
          "base_uri": "https://localhost:8080/"
        },
        "id": "1xLKPRiEIUp9",
        "outputId": "c854b388-d5dd-45aa-fd7f-72b29b9b6d2c"
      },
      "outputs": [
        {
          "data": {
            "text/plain": [
              "0.20168819"
            ]
          },
          "execution_count": 8,
          "metadata": {},
          "output_type": "execute_result"
        }
      ],
      "source": [
        "fasttext_gs_sg1_300.wv.similarity('প্রবর্তন', 'রাজা')"
      ]
    },
    {
      "cell_type": "code",
      "execution_count": null,
      "metadata": {
        "id": "OgYAI4DmGK-o"
      },
      "outputs": [],
      "source": []
    },
    {
      "cell_type": "code",
      "execution_count": null,
      "metadata": {
        "colab": {
          "base_uri": "https://localhost:8080/"
        },
        "id": "viy4BSk1IVpI",
        "outputId": "e552f3d6-46a6-4ebd-b034-834f0d9b7fbb"
      },
      "outputs": [
        {
          "data": {
            "text/plain": [
              "[('ঘনকুয়াশা', 0.9711394906044006),\n",
              " ('কুয়াশাও', 0.9310247898101807),\n",
              " ('কুয়াশায়', 0.8343454599380493),\n",
              " ('কুয়াশার', 0.8266347646713257),\n",
              " ('ঘনকুয়াশার', 0.7966285943984985),\n",
              " ('ধোঁয়াশা', 0.7893217206001282),\n",
              " ('ধোঁয়াশা', 0.767272412776947),\n",
              " ('মেঘরোদ', 0.7500921487808228),\n",
              " ('তৃয়াশা', 0.7469527721405029),\n",
              " ('কুয়াশাচ্ছন্ন', 0.7451668977737427)]"
            ]
          },
          "execution_count": 9,
          "metadata": {},
          "output_type": "execute_result"
        }
      ],
      "source": [
        "fasttext_gs_sg0_100.wv.most_similar([\"কুয়াশা\"] , topn=10)"
      ]
    },
    {
      "cell_type": "code",
      "execution_count": null,
      "metadata": {
        "colab": {
          "base_uri": "https://localhost:8080/"
        },
        "id": "Uy5RYlFYIVpI",
        "outputId": "53142462-4f81-4594-c314-7d91a23463d6"
      },
      "outputs": [
        {
          "data": {
            "text/plain": [
              "[('মেট্রোরেলও', 0.9788670539855957),\n",
              " ('মেট্রোরেলে', 0.9297658205032349),\n",
              " ('মেট্রোর', 0.8885155916213989),\n",
              " ('মেট্রোরেলের', 0.8737552762031555),\n",
              " ('মেট্রো', 0.8578785061836243),\n",
              " ('চট্টমেট্রো', 0.8264012336730957),\n",
              " ('মেট্রোপোল', 0.825806736946106),\n",
              " ('মেট্রো', 0.8175790309906006),\n",
              " ('মেট্রোরেলসহ', 0.8122009038925171),\n",
              " ('মেট্রোলিটন', 0.8017096519470215)]"
            ]
          },
          "execution_count": 10,
          "metadata": {},
          "output_type": "execute_result"
        }
      ],
      "source": [
        "fasttext_gs_sg0_100.wv.most_similar([\"মেট্রোরেল\"] , topn=10)"
      ]
    },
    {
      "cell_type": "code",
      "execution_count": null,
      "metadata": {
        "colab": {
          "base_uri": "https://localhost:8080/"
        },
        "id": "g3-aUB2zIVpI",
        "outputId": "2ea86b7a-f810-4a19-ccfb-8698adda0c2b"
      },
      "outputs": [
        {
          "data": {
            "text/plain": [
              "[('ভদ্রমহিলা', 0.66493159532547),\n",
              " ('মহাপুরুষ', 0.6341217160224915),\n",
              " ('সংরক্ষিত', 0.6035071611404419)]"
            ]
          },
          "execution_count": 11,
          "metadata": {},
          "output_type": "execute_result"
        }
      ],
      "source": [
        "fasttext_gs_sg0_100.wv.most_similar(positive=['মহিলা', 'পুরুষ'], negative=['মেয়ে'], topn=3)"
      ]
    },
    {
      "cell_type": "code",
      "execution_count": null,
      "metadata": {
        "colab": {
          "base_uri": "https://localhost:8080/"
        },
        "id": "hKcUKmuCIVpJ",
        "outputId": "f65d2678-3d2c-4155-d042-7741982a209f"
      },
      "outputs": [
        {
          "data": {
            "text/plain": [
              "[('পাকিস্তান', 0.7135821580886841),\n",
              " ('পাকিস্তানভিত্তিক', 0.7052025198936462),\n",
              " ('পূর্বপাকিস্তান', 0.697191059589386)]"
            ]
          },
          "execution_count": 14,
          "metadata": {},
          "output_type": "execute_result"
        }
      ],
      "source": [
        "fasttext_gs_sg0_100.wv.most_similar(positive\n",
        "=['বাংলাদেশ', 'ইসলামাবাদ'], negative=['ঢাকা'], topn=3)"
      ]
    },
    {
      "cell_type": "code",
      "execution_count": null,
      "metadata": {
        "colab": {
          "base_uri": "https://localhost:8080/"
        },
        "id": "Xjq5ulMRIVpJ",
        "outputId": "d2e6eafd-c2d4-4317-ceee-7b68efd9863e"
      },
      "outputs": [
        {
          "data": {
            "text/plain": [
              "[('রাজামৌলি', 0.7583073377609253),\n",
              " ('রাজকন্যা', 0.7431219816207886),\n",
              " ('রাজাই', 0.7378509640693665)]"
            ]
          },
          "execution_count": 9,
          "metadata": {},
          "output_type": "execute_result"
        }
      ],
      "source": [
        "fasttext_gs_sg0_100.wv.most_similar(positive\n",
        "=['রাজা', 'মেয়ে'], negative=['ছেলে'], topn=3)"
      ]
    },
    {
      "cell_type": "code",
      "execution_count": null,
      "metadata": {
        "colab": {
          "base_uri": "https://localhost:8080/"
        },
        "id": "mMacKUy6IVpJ",
        "outputId": "c5aa06e2-8679-402c-e413-8a23b7543650"
      },
      "outputs": [
        {
          "data": {
            "text/plain": [
              "0.39467862"
            ]
          },
          "execution_count": 14,
          "metadata": {},
          "output_type": "execute_result"
        }
      ],
      "source": [
        "fasttext_gs_sg0_100.wv.similarity('প্রবর্তন', 'রাজা')"
      ]
    },
    {
      "cell_type": "code",
      "execution_count": null,
      "metadata": {
        "id": "DVHIq-l2GLFG"
      },
      "outputs": [],
      "source": []
    },
    {
      "cell_type": "code",
      "execution_count": null,
      "metadata": {
        "colab": {
          "base_uri": "https://localhost:8080/"
        },
        "id": "7WdCErJeIW0n",
        "outputId": "7f7c60e0-e49f-4425-bd33-0da116cfccc7"
      },
      "outputs": [
        {
          "data": {
            "text/plain": [
              "[('ঘনকুয়াশা', 0.9639012813568115),\n",
              " ('কুয়াশাও', 0.914515495300293),\n",
              " ('কুয়াশায়', 0.8360567092895508),\n",
              " ('কুয়াশার', 0.83012855052948),\n",
              " ('ঘনকুয়াশার', 0.7942291498184204),\n",
              " ('কুয়াশাচ্ছন্ন', 0.748650074005127),\n",
              " ('ধোঁয়াশা', 0.747927725315094),\n",
              " ('তৃয়াশা', 0.7375349998474121),\n",
              " ('ধোঁয়াশা', 0.7273876070976257),\n",
              " ('কুয়ারন', 0.6622710227966309)]"
            ]
          },
          "execution_count": 5,
          "metadata": {},
          "output_type": "execute_result"
        }
      ],
      "source": [
        "fasttext_gs_sg0_300.wv.most_similar([\"কুয়াশা\"] , topn=10)"
      ]
    },
    {
      "cell_type": "code",
      "execution_count": null,
      "metadata": {
        "colab": {
          "base_uri": "https://localhost:8080/"
        },
        "id": "tySGy1NaIW0n",
        "outputId": "bc95fc6d-72ce-45bb-a9fd-971d492d4b1c"
      },
      "outputs": [
        {
          "data": {
            "text/plain": [
              "[('মেট্রোরেলও', 0.9706897735595703),\n",
              " ('মেট্রোরেলে', 0.9232302904129028),\n",
              " ('মেট্রোর', 0.8828109502792358),\n",
              " ('মেট্রোরেলের', 0.8762004971504211),\n",
              " ('মেট্রো', 0.8502136468887329),\n",
              " ('মেট্রোপোল', 0.8210102319717407),\n",
              " ('মেট্রোরেলসহ', 0.8130447864532471),\n",
              " ('মেট্রো', 0.802211582660675),\n",
              " ('চট্টমেট্রো', 0.7979769706726074),\n",
              " ('মেট্রোলিটন', 0.7841386795043945)]"
            ]
          },
          "execution_count": 6,
          "metadata": {},
          "output_type": "execute_result"
        }
      ],
      "source": [
        "fasttext_gs_sg0_300.wv.most_similar([\"মেট্রোরেল\"] , topn=10)"
      ]
    },
    {
      "cell_type": "code",
      "execution_count": null,
      "metadata": {
        "colab": {
          "base_uri": "https://localhost:8080/"
        },
        "id": "8VkrfYRaIW0n",
        "outputId": "cff909f2-e8e4-4a05-e6da-6fccc4a0d548"
      },
      "outputs": [
        {
          "data": {
            "text/plain": [
              "[('ভদ্রমহিলা', 0.6137892603874207),\n",
              " ('পুরুষও', 0.5506876707077026),\n",
              " ('পুরুষই', 0.5410802364349365)]"
            ]
          },
          "execution_count": 7,
          "metadata": {},
          "output_type": "execute_result"
        }
      ],
      "source": [
        "fasttext_gs_sg0_300.wv.most_similar(positive=['মহিলা', 'পুরুষ'], negative=['মেয়ে'], topn=3)"
      ]
    },
    {
      "cell_type": "code",
      "execution_count": null,
      "metadata": {
        "colab": {
          "base_uri": "https://localhost:8080/"
        },
        "id": "UlRFu8vIIW0n",
        "outputId": "d2922450-6383-459b-b187-465597dc57f4"
      },
      "outputs": [
        {
          "data": {
            "text/plain": [
              "[(\"ঢাকা'র\", 0.6171178817749023),\n",
              " ('দিল্লিও', 0.5736168622970581),\n",
              " ('ঢাকায়ও', 0.5554546117782593)]"
            ]
          },
          "execution_count": 8,
          "metadata": {},
          "output_type": "execute_result"
        }
      ],
      "source": [
        "\n",
        "fasttext_gs_sg0_300.wv.most_similar(positive\n",
        "=['বাংলাদেশ', 'ইসলামাবাদ'], negative=['ঢাকা'], topn=3)"
      ]
    },
    {
      "cell_type": "code",
      "execution_count": null,
      "metadata": {
        "colab": {
          "base_uri": "https://localhost:8080/"
        },
        "id": "FvI6WymfIW0n",
        "outputId": "b2bbee15-69fc-472e-8211-851486a0696b"
      },
      "outputs": [
        {
          "data": {
            "text/plain": [
              "[('রাজাবাবু', 0.7027453184127808),\n",
              " ('রানীজান', 0.6932054758071899),\n",
              " ('রাভু', 0.6830580234527588)]"
            ]
          },
          "execution_count": 9,
          "metadata": {},
          "output_type": "execute_result"
        }
      ],
      "source": [
        "fasttext_gs_sg0_300.wv.most_similar(positive\n",
        "=['রাজা', 'মেয়ে'], negative=['ছেলে'], topn=3)"
      ]
    },
    {
      "cell_type": "code",
      "execution_count": null,
      "metadata": {
        "colab": {
          "base_uri": "https://localhost:8080/"
        },
        "id": "Jc67twvTIW0o",
        "outputId": "5d5985da-5ff0-4fc4-937f-faca0cf1790f"
      },
      "outputs": [
        {
          "data": {
            "text/plain": [
              "0.30989113"
            ]
          },
          "execution_count": 10,
          "metadata": {},
          "output_type": "execute_result"
        }
      ],
      "source": [
        "fasttext_gs_sg0_300.wv.similarity('প্রবর্তন', 'রাজা')"
      ]
    },
    {
      "cell_type": "code",
      "execution_count": null,
      "metadata": {
        "id": "DoB2igvE9zo-"
      },
      "outputs": [],
      "source": []
    },
    {
      "cell_type": "code",
      "execution_count": null,
      "metadata": {
        "colab": {
          "base_uri": "https://localhost:8080/"
        },
        "id": "AjTRRzBoIX4H",
        "outputId": "b44ed2c5-4a5b-4227-9fc7-ff23d10cec5d"
      },
      "outputs": [
        {
          "data": {
            "text/plain": [
              "[(0.9573663473129272, 'কুয়াশাও'),\n",
              " (0.9519394636154175, 'ঘনকুয়াশা'),\n",
              " (0.9419339895248413, 'কুয়াশার'),\n",
              " (0.9377858638763428, 'কুয়াশায়'),\n",
              " (0.8823006749153137, 'কুয়াশাচ্ছন্ন'),\n",
              " (0.8077007532119751, 'ঘন'),\n",
              " (0.797359824180603, 'মেঘাচ্ছন্ন'),\n",
              " (0.7923212051391602, 'শীত'),\n",
              " (0.7809111475944519, 'রোদ'),\n",
              " (0.7800885438919067, 'বাতাসও')]"
            ]
          },
          "execution_count": 14,
          "metadata": {},
          "output_type": "execute_result"
        }
      ],
      "source": [
        "fasttext_sg1_100.get_nearest_neighbors(\"কুয়াশা\")"
      ]
    },
    {
      "cell_type": "code",
      "execution_count": null,
      "metadata": {
        "colab": {
          "base_uri": "https://localhost:8080/"
        },
        "id": "FDNXDC_7IX4I",
        "outputId": "dfc88c7f-cf8c-49a7-e6b0-50889d838e6c"
      },
      "outputs": [
        {
          "data": {
            "text/plain": [
              "[(0.9716010093688965, 'মেট্রোরেলে'),\n",
              " (0.9530009627342224, 'মেট্রোরেলের'),\n",
              " (0.9247152209281921, 'মেট্রোরেলসহ'),\n",
              " (0.8415833115577698, 'মেট্রোর'),\n",
              " (0.8325338363647461, 'টানেল'),\n",
              " (0.8243909478187561, 'এলিভেটেড'),\n",
              " (0.7510474324226379, 'টানেলটি'),\n",
              " (0.7493442296981812, 'এক্সপ্রেসওয়ে'),\n",
              " (0.7348825335502625, 'প্রকল্পও'),\n",
              " (0.7330422401428223, 'রেললাইনটি')]"
            ]
          },
          "execution_count": 15,
          "metadata": {},
          "output_type": "execute_result"
        }
      ],
      "source": [
        "fasttext_sg1_100.get_nearest_neighbors(\"মেট্রোরেল\")"
      ]
    },
    {
      "cell_type": "code",
      "execution_count": null,
      "metadata": {
        "colab": {
          "base_uri": "https://localhost:8080/"
        },
        "id": "rB1SE_WsIX4I",
        "outputId": "6356527c-f7af-41b4-b8a0-1de44e7e5ac0"
      },
      "outputs": [
        {
          "data": {
            "text/plain": [
              "[(0.7855331897735596, 'মহিলারা'),\n",
              " (0.7777070999145508, 'মহিলার'),\n",
              " (0.7759464383125305, 'মহিলাবিষয়ক'),\n",
              " (0.7468039989471436, 'মহিলাকে'),\n",
              " (0.7243639826774597, 'আঞ্জুম'),\n",
              " (0.6883223056793213, 'আফরোজ'),\n",
              " (0.6874465346336365, 'মহিলাদের'),\n",
              " (0.6844985485076904, 'রাজিয়া'),\n",
              " (0.6788910031318665, 'বদরুন্নেছা'),\n",
              " (0.6773126125335693, 'গেরদা')]"
            ]
          },
          "execution_count": 17,
          "metadata": {},
          "output_type": "execute_result"
        }
      ],
      "source": [
        "fasttext_sg1_100.get_nearest_neighbors('মহিলা')"
      ]
    },
    {
      "cell_type": "code",
      "execution_count": null,
      "metadata": {
        "colab": {
          "base_uri": "https://localhost:8080/"
        },
        "id": "VfRvl0EhIX4I",
        "outputId": "d47faee8-975e-46ac-97a6-c1cf7f6d8dd6"
      },
      "outputs": [
        {
          "data": {
            "text/plain": [
              "[(0.8355295658111572, \"'ঢাকা\"),\n",
              " (0.7727099061012268, 'চট্টগ্রাম'),\n",
              " (0.7299285531044006, 'গাঢাকা'),\n",
              " (0.7286563515663147, 'খুলনা'),\n",
              " (0.7262465357780457, 'ঢাকার'),\n",
              " (0.7254102230072021, 'রাজশাহী'),\n",
              " (0.7219862341880798, 'সিলেট'),\n",
              " (0.7210209369659424, 'চট্টগ্রামমুখী'),\n",
              " (0.7084136009216309, 'রংপুর'),\n",
              " (0.7067611813545227, 'মহানগরীতে')]"
            ]
          },
          "execution_count": 18,
          "metadata": {},
          "output_type": "execute_result"
        }
      ],
      "source": [
        "fasttext_sg1_100.get_nearest_neighbors('ঢাকা')"
      ]
    },
    {
      "cell_type": "code",
      "execution_count": null,
      "metadata": {
        "colab": {
          "base_uri": "https://localhost:8080/"
        },
        "id": "b2ypJbObIX4I",
        "outputId": "b7ec3fc1-ec32-47d1-dd37-2f0abd8ab64d"
      },
      "outputs": [
        {
          "data": {
            "text/plain": [
              "[(0.7303565144538879, 'রাজামৌলি'),\n",
              " (0.7001459002494812, 'রাজামৌলির'),\n",
              " (0.6951875686645508, 'সুপ্তা'),\n",
              " (0.6933155059814453, 'ওবেরয়'),\n",
              " (0.6886851191520691, 'বিজরী'),\n",
              " (0.6832139492034912, 'মরমি'),\n",
              " (0.6831360459327698, 'রাহানে'),\n",
              " (0.6774823069572449, 'ইয়োহানি'),\n",
              " (0.6752798557281494, 'মেয়েলি'),\n",
              " (0.673197329044342, 'সিকার')]"
            ]
          },
          "execution_count": 15,
          "metadata": {},
          "output_type": "execute_result"
        }
      ],
      "source": [
        "fasttext_sg1_100.get_analogies(\"রাজা\", \"ছেলে\",\"মেয়ে\")"
      ]
    },
    {
      "cell_type": "code",
      "execution_count": null,
      "metadata": {
        "colab": {
          "base_uri": "https://localhost:8080/"
        },
        "id": "3F-aXzi4IX4I",
        "outputId": "8d566e3d-a91e-4ce1-93e5-e4928d87ac41"
      },
      "outputs": [
        {
          "data": {
            "text/plain": [
              "[(0.6285935044288635, 'চট্টগ্রাম'),\n",
              " (0.6168743371963501, \"'ঢাকা\"),\n",
              " (0.6159656047821045, 'চট্ট'),\n",
              " (0.6057689785957336, 'চট্টগ্রামকে'),\n",
              " (0.5886152386665344, 'বিআরবি'),\n",
              " (0.5828224420547485, 'চট্টগ্রামভিত্তিক'),\n",
              " (0.5753381252288818, 'চট্টগ্রামমুখী'),\n",
              " (0.5749698281288147, 'স্টার্জন'),\n",
              " (0.574686586856842, 'উইমেন্সের'),\n",
              " (0.5703926086425781, 'বারডেম')]"
            ]
          },
          "execution_count": 6,
          "metadata": {},
          "output_type": "execute_result"
        }
      ],
      "source": [
        "fasttext_sg1_100.get_analogies(\"ঢাকা\", \"ইসলামাবাদ\", \"বাংলাদেশ\")"
      ]
    },
    {
      "cell_type": "code",
      "execution_count": null,
      "metadata": {
        "id": "PIWB3hhnGLQw"
      },
      "outputs": [],
      "source": []
    },
    {
      "cell_type": "code",
      "execution_count": null,
      "metadata": {
        "id": "c7KFgLVSGLXB"
      },
      "outputs": [],
      "source": []
    },
    {
      "cell_type": "code",
      "execution_count": null,
      "metadata": {
        "colab": {
          "base_uri": "https://localhost:8080/"
        },
        "id": "6r8G30A_HY70",
        "outputId": "6f1a8011-d181-4f88-a738-c8c63d1edc88"
      },
      "outputs": [
        {
          "data": {
            "text/plain": [
              "[(0.9329683184623718, 'ঘনকুয়াশা'),\n",
              " (0.9246459603309631, 'কুয়াশাও'),\n",
              " (0.8581473231315613, 'কুয়াশার'),\n",
              " (0.8538721203804016, 'কুয়াশায়'),\n",
              " (0.8070160746574402, 'কুয়াশাচ্ছন্ন'),\n",
              " (0.766051173210144, 'ধোঁয়াশা'),\n",
              " (0.7638098001480103, 'কুয়া'),\n",
              " (0.7076551914215088, 'ধোঁয়াশা'),\n",
              " (0.6871768832206726, 'কুয়াকাটা'),\n",
              " (0.6381382942199707, 'কুয়ার')]"
            ]
          },
          "execution_count": 24,
          "metadata": {},
          "output_type": "execute_result"
        }
      ],
      "source": [
        "fasttext_cbow_100.get_nearest_neighbors(\"কুয়াশা\")"
      ]
    },
    {
      "cell_type": "code",
      "execution_count": null,
      "metadata": {
        "colab": {
          "base_uri": "https://localhost:8080/"
        },
        "id": "Ao6ZDL94HY71",
        "outputId": "8e9e5a8d-8098-4873-ff54-a5de5efbbca1"
      },
      "outputs": [
        {
          "data": {
            "text/plain": [
              "[(0.9139463305473328, 'মেট্রোরেলে'),\n",
              " (0.8880037069320679, 'মেট্রোরেলের'),\n",
              " (0.8830960392951965, 'মেট্রোর'),\n",
              " (0.8736748099327087, 'মেট্রো'),\n",
              " (0.8355345726013184, 'মেট্রোরেলসহ'),\n",
              " (0.7670664191246033, 'মেট্রো'),\n",
              " (0.7185729146003723, 'মেট্রিকটন'),\n",
              " (0.6821022033691406, 'মেট্রিক'),\n",
              " (0.6774435639381409, 'মেট্রোপলিটন'),\n",
              " (0.6760607957839966, 'পেট্রো')]"
            ]
          },
          "execution_count": 25,
          "metadata": {},
          "output_type": "execute_result"
        }
      ],
      "source": [
        "fasttext_cbow_100.get_nearest_neighbors(\"মেট্রোরেল\")"
      ]
    },
    {
      "cell_type": "code",
      "execution_count": null,
      "metadata": {
        "colab": {
          "base_uri": "https://localhost:8080/"
        },
        "id": "0fisDayjHY71",
        "outputId": "1b2fab0d-dbbe-4d4b-cc28-fae25bca1c11"
      },
      "outputs": [
        {
          "data": {
            "text/plain": [
              "[(0.7897504568099976, 'মহিলার'),\n",
              " (0.7849534749984741, 'মহিলারা'),\n",
              " (0.7416611313819885, 'মহিলাবিষয়ক'),\n",
              " (0.7376050353050232, 'মনজিলা'),\n",
              " (0.7051475644111633, 'মহিলাকে'),\n",
              " (0.6909589767456055, 'খিলা'),\n",
              " (0.6749770641326904, 'প্রমিলা'),\n",
              " (0.6616761088371277, 'মহি'),\n",
              " (0.6602001786231995, 'তানজিলা'),\n",
              " (0.6561634540557861, 'চিলা')]"
            ]
          },
          "execution_count": 26,
          "metadata": {},
          "output_type": "execute_result"
        }
      ],
      "source": [
        "fasttext_cbow_100.get_nearest_neighbors('মহিলা')"
      ]
    },
    {
      "cell_type": "code",
      "execution_count": null,
      "metadata": {
        "colab": {
          "base_uri": "https://localhost:8080/"
        },
        "id": "o1UEp8pXHY71",
        "outputId": "7a1977da-8b02-4a68-8e39-a78d0588cd17"
      },
      "outputs": [
        {
          "data": {
            "text/plain": [
              "[(0.9190191626548767, \"'ঢাকা\"),\n",
              " (0.7661356329917908, 'ঢাকাও'),\n",
              " (0.7357678413391113, 'গাঢাকা'),\n",
              " (0.7343462109565735, 'ঢাকাস্থ'),\n",
              " (0.7312175035476685, 'ঢাকার'),\n",
              " (0.7290356755256653, 'ঢাক'),\n",
              " (0.7147461771965027, 'ঢাকাগামী'),\n",
              " (0.7023261189460754, 'ঢাকাই'),\n",
              " (0.6868644952774048, 'ঢাকামুখী'),\n",
              " (0.6731386184692383, 'জলঢাকা')]"
            ]
          },
          "execution_count": 27,
          "metadata": {},
          "output_type": "execute_result"
        }
      ],
      "source": [
        "fasttext_cbow_100.get_nearest_neighbors('ঢাকা')"
      ]
    },
    {
      "cell_type": "code",
      "execution_count": null,
      "metadata": {
        "colab": {
          "base_uri": "https://localhost:8080/"
        },
        "id": "XlMFSUH3HY71",
        "outputId": "57299022-c2a9-44de-eb21-25a70e13c76a"
      },
      "outputs": [
        {
          "data": {
            "text/plain": [
              "[(0.8298299312591553, 'রাজামৌলি'),\n",
              " (0.7519060969352722, 'রাজাবাবু'),\n",
              " (0.7428140044212341, 'রাজাশন'),\n",
              " (0.7189115285873413, 'রাজামৌলির'),\n",
              " (0.7060302495956421, 'রাজার'),\n",
              " (0.6993327736854553, 'মহারাজা'),\n",
              " (0.6966301202774048, 'রাজাকার'),\n",
              " (0.6782056093215942, 'রাজ'),\n",
              " (0.6747831106185913, 'তাজা'),\n",
              " (0.6745342016220093, 'রাজাপাকসা')]"
            ]
          },
          "execution_count": 28,
          "metadata": {},
          "output_type": "execute_result"
        }
      ],
      "source": [
        "fasttext_cbow_100.get_nearest_neighbors('রাজা')"
      ]
    },
    {
      "cell_type": "code",
      "execution_count": null,
      "metadata": {
        "colab": {
          "base_uri": "https://localhost:8080/"
        },
        "id": "g4UgRxqLHY71",
        "outputId": "2f75f2cd-8495-42f8-bfa5-72e74294323f"
      },
      "outputs": [
        {
          "data": {
            "text/plain": [
              "[(0.6909371018409729, 'ইসলামাবাদে'),\n",
              " (0.6885465979576111, 'ইসলামাবাদের'),\n",
              " (0.6576516628265381, 'পাকিস্তান'),\n",
              " (0.6211831569671631, 'আফগানিস্তান'),\n",
              " (0.6204364895820618, 'তাজিকিস্তান'),\n",
              " (0.6116588711738586, 'পাকিস্তানও'),\n",
              " (0.6104521155357361, 'রাষ্ট্রটি'),\n",
              " (0.6098083257675171, 'পকিস্তান'),\n",
              " (0.6094101667404175, 'পাকিস্তানী'),\n",
              " (0.6061508059501648, 'ভারতও')]"
            ]
          },
          "execution_count": 13,
          "metadata": {},
          "output_type": "execute_result"
        }
      ],
      "source": [
        "fasttext_cbow_100.get_analogies( \"বাংলাদেশ\",\"ঢাকা\", \"ইসলামাবাদ\")"
      ]
    },
    {
      "cell_type": "code",
      "execution_count": null,
      "metadata": {
        "colab": {
          "base_uri": "https://localhost:8080/"
        },
        "id": "fHjcEKnSGLlm",
        "outputId": "4e5bca89-564c-4b71-ee1d-577e86462ecc"
      },
      "outputs": [
        {
          "data": {
            "text/plain": [
              "[(0.7303565144538879, 'রাজামৌলি'),\n",
              " (0.7001459002494812, 'রাজামৌলির'),\n",
              " (0.6951875686645508, 'সুপ্তা'),\n",
              " (0.6933155059814453, 'ওবেরয়'),\n",
              " (0.6886851191520691, 'বিজরী'),\n",
              " (0.6832139492034912, 'মরমি'),\n",
              " (0.6831360459327698, 'রাহানে'),\n",
              " (0.6774823069572449, 'ইয়োহানি'),\n",
              " (0.6752798557281494, 'মেয়েলি'),\n",
              " (0.673197329044342, 'সিকার')]"
            ]
          },
          "execution_count": 14,
          "metadata": {},
          "output_type": "execute_result"
        }
      ],
      "source": [
        "fasttext_cbow_100.get_analogies(\"রাজা\", \"ছেলে\",\"মেয়ে\")"
      ]
    },
    {
      "cell_type": "code",
      "execution_count": null,
      "metadata": {
        "id": "D48icMyTGLsO"
      },
      "outputs": [],
      "source": []
    },
    {
      "cell_type": "code",
      "execution_count": null,
      "metadata": {
        "id": "OMIsB55UGLy0"
      },
      "outputs": [],
      "source": []
    },
    {
      "cell_type": "code",
      "execution_count": null,
      "metadata": {
        "id": "9oPRQBQPGL4V"
      },
      "outputs": [],
      "source": []
    },
    {
      "cell_type": "code",
      "execution_count": null,
      "metadata": {
        "id": "NHE1hCUqGL-Z"
      },
      "outputs": [],
      "source": []
    },
    {
      "cell_type": "code",
      "execution_count": null,
      "metadata": {
        "id": "0CgvwgecGMEH"
      },
      "outputs": [],
      "source": []
    },
    {
      "cell_type": "code",
      "execution_count": null,
      "metadata": {
        "id": "nQFjVteCGMUu"
      },
      "outputs": [],
      "source": []
    },
    {
      "cell_type": "code",
      "execution_count": null,
      "metadata": {
        "id": "1Q_Z4rw8GMcA"
      },
      "outputs": [],
      "source": []
    },
    {
      "cell_type": "code",
      "execution_count": null,
      "metadata": {
        "id": "4tsoyt9oGMiq"
      },
      "outputs": [],
      "source": []
    },
    {
      "cell_type": "code",
      "execution_count": null,
      "metadata": {
        "id": "Y5Pi2tiPGMoU"
      },
      "outputs": [],
      "source": []
    },
    {
      "cell_type": "code",
      "execution_count": null,
      "metadata": {
        "id": "s2DUq6oCGMus"
      },
      "outputs": [],
      "source": []
    },
    {
      "cell_type": "code",
      "execution_count": null,
      "metadata": {
        "id": "JwhFGZWvGM04"
      },
      "outputs": [],
      "source": []
    },
    {
      "cell_type": "code",
      "execution_count": null,
      "metadata": {
        "id": "sHaCy_XWGNBi"
      },
      "outputs": [],
      "source": []
    },
    {
      "cell_type": "code",
      "execution_count": null,
      "metadata": {
        "id": "8xwvwZJGGNIY"
      },
      "outputs": [],
      "source": []
    },
    {
      "cell_type": "code",
      "execution_count": null,
      "metadata": {
        "id": "jFBCJbsAGNOq"
      },
      "outputs": [],
      "source": []
    },
    {
      "cell_type": "code",
      "execution_count": null,
      "metadata": {
        "id": "Q5u7mA6MGNUm"
      },
      "outputs": [],
      "source": []
    },
    {
      "cell_type": "code",
      "execution_count": null,
      "metadata": {
        "id": "dj9d8pwJGNaQ"
      },
      "outputs": [],
      "source": []
    },
    {
      "cell_type": "code",
      "execution_count": null,
      "metadata": {
        "id": "AIA9rGsnGNgC"
      },
      "outputs": [],
      "source": []
    },
    {
      "cell_type": "code",
      "execution_count": null,
      "metadata": {
        "id": "X8kUwYzeGNuj"
      },
      "outputs": [],
      "source": []
    },
    {
      "cell_type": "code",
      "execution_count": null,
      "metadata": {
        "id": "I0B8kVsFGN0l"
      },
      "outputs": [],
      "source": []
    },
    {
      "cell_type": "code",
      "execution_count": null,
      "metadata": {
        "id": "v83lvyO7GN6l"
      },
      "outputs": [],
      "source": []
    },
    {
      "cell_type": "code",
      "execution_count": null,
      "metadata": {
        "id": "55C06Lh9GOAY"
      },
      "outputs": [],
      "source": []
    },
    {
      "cell_type": "code",
      "execution_count": null,
      "metadata": {
        "id": "8aZshZ1uGOGV"
      },
      "outputs": [],
      "source": []
    },
    {
      "cell_type": "code",
      "execution_count": null,
      "metadata": {
        "id": "uZkQmiH_GOML"
      },
      "outputs": [],
      "source": []
    },
    {
      "cell_type": "code",
      "execution_count": null,
      "metadata": {
        "id": "W_KR5wSI2uO5"
      },
      "outputs": [],
      "source": [
        "del model\n",
        "del ft_gens_sk_model300\n"
      ]
    }
  ],
  "metadata": {
    "colab": {
      "provenance": []
    },
    "kernelspec": {
      "display_name": "Python 3",
      "name": "python3"
    },
    "language_info": {
      "name": "python"
    }
  },
  "nbformat": 4,
  "nbformat_minor": 0
}